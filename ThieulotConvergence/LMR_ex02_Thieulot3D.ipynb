{
 "cells": [
  {
   "cell_type": "markdown",
   "metadata": {
    "deletable": true,
    "editable": true
   },
   "source": [
    "# Thieulot et al. 2014 (3D version)\n",
    "\n",
    "version 0.1\n",
    "\n",
    "Romain Beucher (romain.beucher@unimelb.edu.au)\n",
    "\n",
    "The following is an example of a lithospheric scale model.\n",
    "\n",
    "<img src=\"data/Thieulot2014.png\">"
   ]
  },
  {
   "cell_type": "code",
   "execution_count": null,
   "metadata": {
    "collapsed": true,
    "deletable": true,
    "editable": true,
    "scrolled": true
   },
   "outputs": [],
   "source": [
    "from __future__ import print_function\n",
    "import underworld as uw\n",
    "import underworld.function as fn\n",
    "import numpy as np\n",
    "\n",
    "# LMR utilities\n",
    "from unsupported.LMR import *\n",
    "from UWGeodynamics.scaling import *\n",
    "from UWGeodynamics.scaling import nonDimensionalize as nd\n",
    "from UWGeodynamics.lithopress import lithoPressure\n",
    "from unsupported.LecodeIsostasy import lecode_tools_isostasy\n",
    "import unsupported.rheology as rheology\n",
    "\n",
    "# Output\n",
    "import h5py\n",
    "import os\n",
    "\n",
    "# Visualisation\n",
    "import glucifer\n",
    "from underworld.utils import is_kernel\n",
    "import matplotlib.pyplot as plt\n",
    "\n",
    "print(uw.__version__)\n",
    "print(uw.__file__)"
   ]
  },
  {
   "cell_type": "code",
   "execution_count": null,
   "metadata": {
    "collapsed": true,
    "deletable": true,
    "editable": true
   },
   "outputs": [],
   "source": [
    "outputDir = './outputs/'\n",
    "        \n",
    "if uw.rank() == 0:\n",
    "    if not os.path.exists(outputDir):\n",
    "        os.makedirs(outputDir)"
   ]
  },
  {
   "cell_type": "markdown",
   "metadata": {
    "deletable": true,
    "editable": true
   },
   "source": [
    "## Options"
   ]
  },
  {
   "cell_type": "code",
   "execution_count": null,
   "metadata": {
    "collapsed": true,
    "deletable": true,
    "editable": true
   },
   "outputs": [],
   "source": [
    "Erosion = False\n",
    "Sedimentation = True\n",
    "BottomStressBC = False\n",
    "BottomLecodeIsostasyBC = True"
   ]
  },
  {
   "cell_type": "markdown",
   "metadata": {
    "deletable": true,
    "editable": true
   },
   "source": [
    "# Scaling\n",
    "\n",
    "We define a set of physical values that are chosen to represent some characterics of the system we are aiming to model. Those values are then used to calculate a set of scaling coefficients that we will used to scale the different dimensions of our problem. That step is not mandatory but reduce the potential for numerical errors and is generally considered good practice. The *scaling* python dictionary can be seen as a bridge between real world and model world dimensions.\n",
    "\n",
    "All the parameters are defined with natural units using the pint python module. There is no obligation to use SI units but that is of course encouraged...As pint knows about prefixes, you can freely use them without worrying about conversion."
   ]
  },
  {
   "cell_type": "code",
   "execution_count": null,
   "metadata": {
    "collapsed": true,
    "deletable": true,
    "editable": true
   },
   "outputs": [],
   "source": [
    "# Characteristic values of the system\n",
    "half_rate = (0.5 * u.centimeter / u.year).to(u.meter / u.second)\n",
    "model_length = 192e3 * u.meter\n",
    "model_width = 64e3 * u.meter\n",
    "model_height = 50e3 * u.meter\n",
    "refViscosity = (1e24 * u.pascal * u.second).to_base_units()\n",
    "surfaceTemp = (0. * u.degC).to_base_units()\n",
    "baseModelTemp = (550. * u.degC).to_base_units()\n",
    "bodyforce = (2800 * u.kilogram / u.metre**3 * 9.81 * u.meter / u.second**2)\n",
    "\n",
    "\n",
    "KL_meters = model_length\n",
    "KT_seconds = KL_meters / half_rate\n",
    "KM_kilograms = bodyforce * KL_meters**2 * KT_seconds**2\n",
    "Kt_degrees = (baseModelTemp - surfaceTemp)\n",
    "K_substance = 1. * u.mole\n",
    "\n",
    "scaling = {\"[time]\": KT_seconds,\n",
    "           \"[length]\": KL_meters, \n",
    "           \"[mass]\": KM_kilograms, \n",
    "           \"[temperature]\": Kt_degrees,\n",
    "           \"[substance]\": K_substance}"
   ]
  },
  {
   "cell_type": "markdown",
   "metadata": {
    "deletable": true,
    "editable": true
   },
   "source": [
    "# General parameters\n",
    "\n",
    "We first define some general parameters and scale them by using the *nonDimensionalize* function available from the *scaling* module. Note that we aliased the function to *nd* in order to facilitate reading but those are equivalent. We will only use *nd* in the following."
   ]
  },
  {
   "cell_type": "code",
   "execution_count": null,
   "metadata": {
    "collapsed": true,
    "deletable": true,
    "editable": true
   },
   "outputs": [],
   "source": [
    "gravity = nonDimensionalize(9.81 * u.meter / u.second**2, scaling)\n",
    "R = nonDimensionalize(8.3144621 * u.joule / u.mole / u.degK, scaling)"
   ]
  },
  {
   "cell_type": "markdown",
   "metadata": {
    "deletable": true,
    "editable": true
   },
   "source": [
    "# Geometry of the model\n",
    "\n",
    "We define the dimensions and extent of the model on a regular cartesian mesh."
   ]
  },
  {
   "cell_type": "code",
   "execution_count": null,
   "metadata": {
    "collapsed": true,
    "deletable": true,
    "editable": true
   },
   "outputs": [],
   "source": [
    "nx = 96\n",
    "ny = 44\n",
    "nz = 14\n",
    "\n",
    "minX = nd(0. * u.kilometer, scaling)\n",
    "maxX = nd(192. * u.kilometer, scaling)\n",
    "minY = nd(0. * u.kilometer, scaling)\n",
    "maxY = nd(64. * u.kilometer, scaling)\n",
    "minZ = nd(-28. * u.kilometer, scaling)\n",
    "maxZ = nd(7. * u.kilometer, scaling)\n",
    "\n",
    "mesh = uw.mesh.FeMesh_Cartesian(elementType = (\"Q1/dQ0\"),\n",
    "                                elementRes  = (nx-1, ny-1, nz-1),\n",
    "                                minCoord    = (minX, minY, minZ),\n",
    "                                maxCoord    = (maxX, maxY, maxZ))"
   ]
  },
  {
   "cell_type": "markdown",
   "metadata": {
    "deletable": true,
    "editable": true
   },
   "source": [
    "In our problem, the material history is attached to the particles while the velocity field and the state variables such as the pressure and the temperature are attached to the mesh.\n",
    "We first need to define a swarm of particles and a set of mesh and swarm variables."
   ]
  },
  {
   "cell_type": "markdown",
   "metadata": {
    "deletable": true,
    "editable": true
   },
   "source": [
    "### Particle Swarm"
   ]
  },
  {
   "cell_type": "code",
   "execution_count": null,
   "metadata": {
    "collapsed": true,
    "deletable": true,
    "editable": true
   },
   "outputs": [],
   "source": [
    "swarm  = uw.swarm.Swarm( mesh = mesh, particleEscape=True)\n",
    "swarmLayout = uw.swarm.layouts.GlobalSpaceFillerLayout( swarm = swarm, particlesPerCell=25 )\n",
    "swarm.populate_using_layout( layout = swarmLayout )"
   ]
  },
  {
   "cell_type": "markdown",
   "metadata": {
    "deletable": true,
    "editable": true
   },
   "source": [
    "### Mesh Variables"
   ]
  },
  {
   "cell_type": "code",
   "execution_count": null,
   "metadata": {
    "collapsed": true,
    "deletable": true,
    "editable": true
   },
   "outputs": [],
   "source": [
    "velocityField = uw.mesh.MeshVariable( mesh=mesh, nodeDofCount=mesh.dim )\n",
    "pressureField = uw.mesh.MeshVariable( mesh=mesh.subMesh, nodeDofCount=1 )\n",
    "solverPressure   = uw.mesh.MeshVariable( mesh=mesh.subMesh, nodeDofCount=1 )\n",
    "temperatureField    = uw.mesh.MeshVariable( mesh=mesh, nodeDofCount=1 )\n",
    "temperatureDotField = uw.mesh.MeshVariable( mesh=mesh ,nodeDofCount=1)\n",
    "stressField = uw.mesh.MeshVariable( mesh=mesh ,nodeDofCount=3)\n",
    "\n",
    "# It is considered good practice to initialise the data arrays to 0.\n",
    "velocityField.data[...]  = 0.0\n",
    "pressureField.data[...]  = 0.0\n",
    "solverPressure.data[...]  = 0.0\n",
    "temperatureField.data[...] = 0.0\n",
    "temperatureDotField.data[...] = 0.0\n",
    "stressField.data[...] = 0.0"
   ]
  },
  {
   "cell_type": "markdown",
   "metadata": {
    "deletable": true,
    "editable": true
   },
   "source": [
    "### Swarm Variables"
   ]
  },
  {
   "cell_type": "code",
   "execution_count": null,
   "metadata": {
    "collapsed": true,
    "deletable": true,
    "editable": true
   },
   "outputs": [],
   "source": [
    "materialIndexField = swarm.add_variable( dataType=\"int\", count=1 )\n",
    "viscosityField  = swarm.add_variable( dataType=\"double\", count=1)\n",
    "cumulativeTotalStrain = swarm.add_variable( dataType=\"double\", count=1)\n",
    "strainRate = swarm.add_variable( dataType=\"double\", count=1)\n",
    "viscosityVar = swarm.add_variable(dataType=\"double\", count=1)\n",
    "\n",
    "cumulativeTotalStrain.data[...] = 0.0"
   ]
  },
  {
   "cell_type": "markdown",
   "metadata": {
    "deletable": true,
    "editable": true
   },
   "source": [
    "# Visualisation\n",
    "\n",
    "Underworld2 offers many options for visualisation. In the context of this Jupyer notebook we will use glucifer functions to visualise the progression of our setup and the results of the model."
   ]
  },
  {
   "cell_type": "code",
   "execution_count": null,
   "metadata": {
    "collapsed": true,
    "deletable": true,
    "editable": true
   },
   "outputs": [],
   "source": [
    "# Pressure Field \n",
    "if is_kernel():\n",
    "    figPressure = glucifer.Figure( figsize=(1200,400))\n",
    "    figPressure.append(glucifer.objects.Surface(mesh, pressureField))\n",
    "\n",
    "# Temperature Field\n",
    "if is_kernel():\n",
    "    figTemp = glucifer.Figure(figsize=(1200,400))\n",
    "    figTemp.append(glucifer.objects.Surface(mesh, temperatureField))\n",
    "\n",
    "# Velocity Field\n",
    "if is_kernel():\n",
    "    FigVelocity = glucifer.Figure(figsize=(1200,400))\n",
    "    FigVelocity.append(glucifer.objects.Points(swarm, materialIndexField, pointSize=3.0))\n",
    "    FigVelocity.append(glucifer.objects.VectorArrows(mesh, velocityField, scaling=0.03, arrowHead=10., resolutionI=25, resolutionJ=10)) \n",
    "\n",
    "# Material Swarm\n",
    "if is_kernel():\n",
    "    FigMaterials = glucifer.Figure( figsize=(1200,400))\n",
    "    FigMaterials.append(glucifer.objects.Points(swarm, fn_colour=materialIndexField, fn_size=2.0))\n",
    "    \n",
    "# Cumulative Plastic Strain\n",
    "if is_kernel():\n",
    "    FigPlasticStrain = glucifer.Figure( figsize=(1200,400))\n",
    "    FigPlasticStrain.append(glucifer.objects.Points(swarm, fn_colour=cumulativeTotalStrain, fn_size=2.0))"
   ]
  },
  {
   "cell_type": "markdown",
   "metadata": {
    "deletable": true,
    "editable": true
   },
   "source": [
    "# Initial Setup\n",
    "\n",
    "## Material distribution\n",
    "\n",
    "The way we choose do define the initial set up is based on the distribution of the different materials (or phases)."
   ]
  },
  {
   "cell_type": "code",
   "execution_count": null,
   "metadata": {
    "collapsed": true,
    "deletable": true,
    "editable": true
   },
   "outputs": [],
   "source": [
    "air = Material()\n",
    "crust = Material()\n",
    "sediment = Material()\n",
    "\n",
    "materials = [air, crust]"
   ]
  },
  {
   "cell_type": "markdown",
   "metadata": {
    "deletable": true,
    "editable": true
   },
   "source": [
    "The initial set up is just a layered cake. We define the top and bottom of each layer and use the utils.layer function to define the shape of the material."
   ]
  },
  {
   "cell_type": "code",
   "execution_count": null,
   "metadata": {
    "collapsed": true,
    "deletable": true,
    "editable": true
   },
   "outputs": [],
   "source": [
    "air.top           = maxY\n",
    "air.bottom        = nd(  0.  * u.kilometer, scaling)\n",
    "crust.top    = nd(  0.  * u.kilometer, scaling)\n",
    "crust.bottom = minY\n",
    "\n",
    "coord = fn.input()\n",
    "conditions = [((coord[2] < obj.top) & (coord[2] > obj.bottom), obj.index) for obj in materials] \n",
    "materialIndexField.data[:] = fn.branching.conditional( conditions ).evaluate(swarm)"
   ]
  },
  {
   "cell_type": "code",
   "execution_count": null,
   "metadata": {
    "collapsed": true,
    "deletable": true,
    "editable": true
   },
   "outputs": [],
   "source": [
    "materials.append(sediment)"
   ]
  },
  {
   "cell_type": "markdown",
   "metadata": {
    "deletable": true,
    "editable": true
   },
   "source": [
    "It is a good idea to check the setup before proceeding any further:"
   ]
  },
  {
   "cell_type": "code",
   "execution_count": null,
   "metadata": {
    "collapsed": true,
    "deletable": true,
    "editable": true
   },
   "outputs": [],
   "source": [
    "checkpoint_number = 0\n",
    "time_years = 0\n",
    "\n",
    "sH = swarm.save(os.path.join(uw_output_path, 'swarm-%s.h5' % checkpoint_number), scaling, units=u.kilometers)\n",
    "file_prefix = os.path.join(uw_output_path, 'material-%s' % checkpoint_number)\n",
    "handle = materialIndexField.save('%s.h5' % file_prefix)\n",
    "materialIndexField.xdmf('%s.xdmf' % file_prefix, handle, 'material', sH, 'swarm', modeltime=time_years)"
   ]
  },
  {
   "cell_type": "markdown",
   "metadata": {
    "deletable": true,
    "editable": true
   },
   "source": [
    "## Material properties\n",
    "\n",
    "The swarm is initialialised but we now need to define the physical properties of our materials:\n",
    "\n",
    "### Densities"
   ]
  },
  {
   "cell_type": "code",
   "execution_count": null,
   "metadata": {
    "collapsed": true,
    "deletable": true,
    "editable": true
   },
   "outputs": [],
   "source": [
    "# Densities\n",
    "air.density = nd(1. * u.kilogram / u.metre**3, scaling)\n",
    "crust.density = nd(2800. * u.kilogram / u.metre**3, scaling)\n",
    "sediment.density = crust.density"
   ]
  },
  {
   "cell_type": "markdown",
   "metadata": {
    "deletable": true,
    "editable": true
   },
   "source": [
    "### Thermal Diffusivities"
   ]
  },
  {
   "cell_type": "code",
   "execution_count": null,
   "metadata": {
    "collapsed": true,
    "deletable": true,
    "editable": true
   },
   "outputs": [],
   "source": [
    "global_diffusivity = nd(1e-6 * u.metre**2 / u.second, scaling) \n",
    "for material in materials:\n",
    "    material.diffusivity = global_diffusivity"
   ]
  },
  {
   "cell_type": "markdown",
   "metadata": {
    "deletable": true,
    "editable": true
   },
   "source": [
    "### Thermal Capacities"
   ]
  },
  {
   "cell_type": "code",
   "execution_count": null,
   "metadata": {
    "collapsed": true,
    "deletable": true,
    "editable": true
   },
   "outputs": [],
   "source": [
    "global_cp = nd(803.57 * u.joule / (u.kelvin * u.kilogram), scaling)\n",
    "for material in materials:\n",
    "    material.capacity = global_cp\n",
    "air.capacity = nd(100. * u.joule / (u.kelvin * u.kilogram), scaling)"
   ]
  },
  {
   "cell_type": "markdown",
   "metadata": {
    "deletable": true,
    "editable": true
   },
   "source": [
    "### Thermal Expansivities"
   ]
  },
  {
   "cell_type": "code",
   "execution_count": null,
   "metadata": {
    "collapsed": true,
    "deletable": true,
    "editable": true
   },
   "outputs": [],
   "source": [
    "global_expansivity = nd(2.5e-5 / u.kelvin, scaling)\n",
    "for material in materials:\n",
    "    material.thermalExpansivity = global_expansivity\n",
    "air.thermalExpansivity = 0.0"
   ]
  },
  {
   "cell_type": "markdown",
   "metadata": {
    "deletable": true,
    "editable": true
   },
   "source": [
    "### Radiogenic Heat Production"
   ]
  },
  {
   "cell_type": "code",
   "execution_count": null,
   "metadata": {
    "collapsed": true,
    "deletable": true,
    "editable": true
   },
   "outputs": [],
   "source": [
    "air.radiogenicHeatProd        = 0.0\n",
    "sediment.radiogenicHeatProd   = nd(0.9 * u.microwatt / u.meter**3, scaling)\n",
    "crust.radiogenicHeatProd = nd(0.9 * u.microwatt / u.meter**3, scaling)"
   ]
  },
  {
   "cell_type": "markdown",
   "metadata": {
    "deletable": true,
    "editable": true
   },
   "source": [
    "### Buoyancy Force\n",
    "\n",
    "Define how the material densities interact with the gravity field."
   ]
  },
  {
   "cell_type": "code",
   "execution_count": null,
   "metadata": {
    "collapsed": true,
    "deletable": true,
    "editable": true
   },
   "outputs": [],
   "source": [
    "Tref = nd(273.15 *u.degK, scaling)\n",
    "\n",
    "densityMap = {}\n",
    "for material in materials:\n",
    "    densityMap[material.index] = material.density * (1.0 - material.thermalExpansivity * (temperatureField - Tref))\n",
    "    \n",
    "densityFn = fn.branching.map( fn_key=materialIndexField, mapping=densityMap )\n",
    "\n",
    "z_hat = ( 0.0, 0.0, -1.0 )\n",
    "buoyancyFn = densityFn * z_hat * gravity"
   ]
  },
  {
   "cell_type": "markdown",
   "metadata": {
    "deletable": true,
    "editable": true
   },
   "source": [
    "## Material Rheologies"
   ]
  },
  {
   "cell_type": "code",
   "execution_count": null,
   "metadata": {
    "collapsed": true,
    "deletable": true,
    "editable": true
   },
   "outputs": [],
   "source": [
    "air.rheology = Rheology()\n",
    "sediment.rheology = Rheology()\n",
    "crust.rheology = Rheology()"
   ]
  },
  {
   "cell_type": "markdown",
   "metadata": {
    "deletable": true,
    "editable": true
   },
   "source": [
    "### Strain Rate and Temperature Dependent Viscosity function\n"
   ]
  },
  {
   "cell_type": "code",
   "execution_count": null,
   "metadata": {
    "collapsed": true,
    "deletable": true,
    "editable": true
   },
   "outputs": [],
   "source": [
    "# symmetric component of the gradient of the flow velocity.\n",
    "strainRateFn = fn.tensor.symmetric( velocityField.fn_gradient )\n",
    "strainRate_2ndInvariantFn = fn.tensor.second_invariant(strainRateFn) "
   ]
  },
  {
   "cell_type": "code",
   "execution_count": null,
   "metadata": {
    "collapsed": true,
    "deletable": true,
    "editable": true
   },
   "outputs": [],
   "source": [
    "def powerLaw(A, Q, n, Va, R, strainRateFn, pressureFn, temperatureFn, DefaultSRInvariant, f=1.0):\n",
    "    I = fn.misc.max(fn.tensor.second_invariant(strainRateFn), DefaultSRInvariant)\n",
    "    P = pressureFn\n",
    "    T = temperatureFn       \n",
    "        \n",
    "    return (f * A**(-1.0 / n) * I**((1.0-n)/n) * \n",
    "            fn.math.exp((Q + P * Va)/(R*T*n)))"
   ]
  },
  {
   "cell_type": "code",
   "execution_count": null,
   "metadata": {
    "collapsed": true,
    "deletable": true,
    "editable": true
   },
   "outputs": [],
   "source": [
    "SRT_WetQ_Tullis2002 = rheology.SRT.SRT_WetQ_Tullis2002\n",
    "SRT_WetQ_Tullis2002 = {k: nd(v, scaling) for k, v in SRT_WetQ_Tullis2002.items()}"
   ]
  },
  {
   "cell_type": "code",
   "execution_count": null,
   "metadata": {
    "collapsed": true,
    "deletable": true,
    "editable": true,
    "scrolled": true
   },
   "outputs": [],
   "source": [
    "  # Define Effective viscosity functions\n",
    "SRT_WetQ_Tullis2002Fn = powerLaw(R=R,strainRateFn=strainRateFn, pressureFn=pressureField,\n",
    "                                    temperatureFn=temperatureField, **SRT_WetQ_Tullis2002)"
   ]
  },
  {
   "cell_type": "code",
   "execution_count": null,
   "metadata": {
    "collapsed": true,
    "deletable": true,
    "editable": true
   },
   "outputs": [],
   "source": [
    "# Assign function to materials\n",
    "air.rheology.viscosity        = fn.misc.constant(nd(1e19 * u.pascal * u.second, scaling))\n",
    "crust.rheology.viscosity = SRT_WetQ_Tullis2002Fn\n",
    "sediment.rheology.viscosity   = SRT_WetQ_Tullis2002Fn"
   ]
  },
  {
   "cell_type": "markdown",
   "metadata": {
    "deletable": true,
    "editable": true
   },
   "source": [
    "## Plasticity"
   ]
  },
  {
   "cell_type": "code",
   "execution_count": null,
   "metadata": {
    "collapsed": true,
    "deletable": true,
    "editable": true
   },
   "outputs": [],
   "source": [
    "def cohesionWeakening(cumulativeTotalStrain, Cohesion, CohesionSw, epsilon1=0.5, epsilon2=1.5, **kwargs):\n",
    "\n",
    "    cohesionVal = [(cumulativeTotalStrain < epsilon1, fn.misc.constant(Cohesion)),\n",
    "                   (cumulativeTotalStrain > epsilon2, fn.misc.constant(CohesionSw)),\n",
    "                   (True, Cohesion + ((Cohesion - CohesionSw)/(epsilon1 - epsilon2)) * (cumulativeTotalStrain - epsilon1))]\n",
    "\n",
    "    return fn.branching.conditional(cohesionVal)\n",
    "\n",
    "def frictionWeakening(cumulativeTotalStrain, FrictionCoef, FrictionCoefSw, epsilon1=0.5, epsilon2=1.5, **kwargs):\n",
    "\n",
    "    frictionVal = [(cumulativeTotalStrain < epsilon1, fn.misc.constant(FrictionCoef)),\n",
    "                   (cumulativeTotalStrain > epsilon2, fn.misc.constant(FrictionCoefSw)),\n",
    "                   (True, FrictionCoef + ((FrictionCoef - FrictionCoefSw)/(epsilon1 - epsilon2)) * (cumulativeTotalStrain - epsilon1))]\n",
    "\n",
    "    frictionVal = fn.branching.conditional(frictionVal)\n",
    "    \n",
    "    return fn.math.atan(frictionVal)"
   ]
  },
  {
   "cell_type": "code",
   "execution_count": null,
   "metadata": {
    "collapsed": true,
    "deletable": true,
    "editable": true
   },
   "outputs": [],
   "source": [
    "Yield_HuismansBeaumont2007 = {\"Cohesion\": 20. * u.megapascal,\n",
    "                        \"CohesionSw\": 10. * u.megapascal,\n",
    "                        \"FrictionCoef\": 0.268,\n",
    "                        \"FrictionCoefSw\": 0.035,\n",
    "                        \"MinimumViscosity\": 1e19 * u.pascal * u.second}"
   ]
  },
  {
   "cell_type": "code",
   "execution_count": null,
   "metadata": {
    "collapsed": true,
    "deletable": true,
    "editable": true
   },
   "outputs": [],
   "source": [
    "Yield_HuismansBeaumont2007 = {k: nd(v, scaling) for k, v in Yield_HuismansBeaumont2007.items()}"
   ]
  },
  {
   "cell_type": "code",
   "execution_count": null,
   "metadata": {
    "collapsed": true,
    "deletable": true,
    "editable": true
   },
   "outputs": [],
   "source": [
    "sediment.rheology.cohesion   = cohesionWeakening(cumulativeTotalStrain, epsilon1=0.25, epsilon2=1.25, **Yield_HuismansBeaumont2007)\n",
    "crust.rheology.cohesion = cohesionWeakening(cumulativeTotalStrain, epsilon1=0.25, epsilon2=1.25, **Yield_HuismansBeaumont2007)"
   ]
  },
  {
   "cell_type": "code",
   "execution_count": null,
   "metadata": {
    "collapsed": true,
    "deletable": true,
    "editable": true
   },
   "outputs": [],
   "source": [
    "sediment.rheology.friction   = frictionWeakening(cumulativeTotalStrain, epsilon1=0.25, epsilon2=1.25, **Yield_HuismansBeaumont2007)\n",
    "crust.rheology.friction = frictionWeakening(cumulativeTotalStrain, epsilon1=0.25, epsilon2=1.25, **Yield_HuismansBeaumont2007)"
   ]
  },
  {
   "cell_type": "code",
   "execution_count": null,
   "metadata": {
    "collapsed": true,
    "deletable": true,
    "editable": true
   },
   "outputs": [],
   "source": [
    "#Plane Strain Drucker-Prager\n",
    "DefaultSRInvariant = nd(1.0e-15 / u.second, scaling)\n",
    "\n",
    "for material in materials:\n",
    "    rheology = material.rheology\n",
    "    if rheology.cohesion != None and rheology.friction != None:\n",
    "        C = rheology.cohesion\n",
    "        Phi = rheology.friction\n",
    "        YieldStress = C*fn.math.cos(Phi) + pressureField * fn.math.sin(Phi)\n",
    "        rheology.plasticity =  0.5 * YieldStress / fn.misc.max(strainRate_2ndInvariantFn, DefaultSRInvariant) \n",
    "    else:\n",
    "        rheology.plasticity = rheology.viscosity"
   ]
  },
  {
   "cell_type": "markdown",
   "metadata": {
    "deletable": true,
    "editable": true
   },
   "source": [
    "### Viscosity Limiter"
   ]
  },
  {
   "cell_type": "code",
   "execution_count": null,
   "metadata": {
    "collapsed": true,
    "deletable": true,
    "editable": true
   },
   "outputs": [],
   "source": [
    "# Viscosity limiter\n",
    "min_viscosity = air.rheology.viscosity\n",
    "max_viscosity = nonDimensionalize(1e25 * u.pascal * u.second, scaling)\n",
    "\n",
    "ViscosityMap = {}\n",
    "for material in materials:\n",
    "    plasticity = material.rheology.plasticity\n",
    "    viscosity = material.rheology.viscosity\n",
    "    ViscosityMap[material.index] = fn.exception.SafeMaths( fn.misc.min(\n",
    "                                         fn.misc.max(\n",
    "                                            fn.misc.min(plasticity, viscosity), \n",
    "                                            min_viscosity),\n",
    "                                      max_viscosity))\n",
    "\n",
    "viscosityFn = fn.branching.map(fn_key = materialIndexField, mapping = ViscosityMap)\n",
    "\n",
    "BGViscosityMap = {}\n",
    "for material in materials:\n",
    "    BGViscosityMap[material.index] = fn.misc.max(fn.misc.min(material.rheology.viscosity, max_viscosity), min_viscosity)\n",
    "\n",
    "backgroundViscosityFn = fn.branching.map(fn_key = materialIndexField, mapping = BGViscosityMap)"
   ]
  },
  {
   "cell_type": "markdown",
   "metadata": {
    "deletable": true,
    "editable": true
   },
   "source": [
    "### Yielding criterion"
   ]
  },
  {
   "cell_type": "code",
   "execution_count": null,
   "metadata": {
    "collapsed": true,
    "deletable": true,
    "editable": true
   },
   "outputs": [],
   "source": [
    "SYconditions = [(viscosityFn < backgroundViscosityFn, strainRate_2ndInvariantFn),\n",
    "                (True, 0.0)]\n",
    "\n",
    "isYielding = fn.branching.conditional(SYconditions)"
   ]
  },
  {
   "cell_type": "markdown",
   "metadata": {
    "deletable": true,
    "editable": true
   },
   "source": [
    "## Initial Temperature\n",
    "\n",
    "Calculate Steady state thermal field as initial condition"
   ]
  },
  {
   "cell_type": "code",
   "execution_count": null,
   "metadata": {
    "collapsed": true,
    "deletable": true,
    "editable": true
   },
   "outputs": [],
   "source": [
    "surfaceTemp = nd(surfaceTemp, scaling)\n",
    "baseModelTemp = nd(baseModelTemp, scaling)"
   ]
  },
  {
   "cell_type": "code",
   "execution_count": null,
   "metadata": {
    "collapsed": true,
    "deletable": true,
    "editable": true
   },
   "outputs": [],
   "source": [
    "DiffusivityMap = {}\n",
    "for material in materials:\n",
    "    DiffusivityMap[material.index] = material.diffusivity\n",
    "\n",
    "DiffusivityFn = fn.branching.map(fn_key = materialIndexField, mapping = DiffusivityMap)"
   ]
  },
  {
   "cell_type": "code",
   "execution_count": null,
   "metadata": {
    "collapsed": true,
    "deletable": true,
    "editable": true
   },
   "outputs": [],
   "source": [
    "HeatProdMap = {}\n",
    "for material in materials:\n",
    "    HeatProdMap[material.index] = material.radiogenicHeatProd / (material.density * material.capacity)\n",
    "\n",
    "HeatProdFn = fn.branching.map(fn_key = materialIndexField, mapping = HeatProdMap)"
   ]
  },
  {
   "cell_type": "code",
   "execution_count": null,
   "metadata": {
    "collapsed": true,
    "deletable": true,
    "editable": true
   },
   "outputs": [],
   "source": [
    "base   = mesh.specialSets[\"MinK_VertexSet\"]\n",
    "\n",
    "coords = fn.input()\n",
    "airnodes = []\n",
    "\n",
    "for index, coords in enumerate(mesh.data):\n",
    "    if coords[2] > crust.top:\n",
    "        temperatureField.data[index] = surfaceTemp\n",
    "        airnodes.append(index)\n",
    "\n",
    "temperatureField.data[base.data] = baseModelTemp       \n",
    "        \n",
    "airIndices = uw.mesh.FeMesh_IndexSet(mesh, topologicalIndex=0, size=mesh.nodesGlobal, fromObject=airnodes)"
   ]
  },
  {
   "cell_type": "code",
   "execution_count": null,
   "metadata": {
    "collapsed": true,
    "deletable": true,
    "editable": true
   },
   "outputs": [],
   "source": [
    "temperatureBCs0 = uw.conditions.DirichletCondition( variable = temperatureField, \n",
    "                                                    indexSetsPerDof = (airIndices+base,))\n",
    "\n",
    "heatequation = uw.systems.SteadyStateHeat(temperatureField=temperatureField,\n",
    "                                          fn_diffusivity=DiffusivityFn,\n",
    "                                          fn_heating = HeatProdFn,\n",
    "                                          conditions=[temperatureBCs0,])\n",
    "heatsolver = uw.systems.Solver(heatequation)\n",
    "heatsolver.solve(nonLinearIterate=True)"
   ]
  },
  {
   "cell_type": "code",
   "execution_count": null,
   "metadata": {
    "collapsed": true,
    "deletable": true,
    "editable": true
   },
   "outputs": [],
   "source": [
    "checkpoint_number = 0\n",
    "time_year = 0.\n",
    "mH = mesh.save(os.path.join(uw_output_path, \"mesh.h5\"), scaling, units=u.kilometers)\n",
    "file_prefix = os.path.join(uw_output_path, 'temperature-%s' % checkpoint_number)\n",
    "handle = temperatureField.save('%s.h5' % file_prefix, scaling=scaling, units=u.degK)\n",
    "temperatureField.xdmf('%s.xdmf' % file_prefix, handle, 'temperature', mH, 'mesh', modeltime=time_year)"
   ]
  },
  {
   "cell_type": "markdown",
   "metadata": {
    "deletable": true,
    "editable": true
   },
   "source": [
    "## Initial Pressure\n",
    "\n",
    "Calculate lithostatic pressure field as initial condition."
   ]
  },
  {
   "cell_type": "code",
   "execution_count": null,
   "metadata": {
    "collapsed": true,
    "deletable": true,
    "editable": true
   },
   "outputs": [],
   "source": [
    "def smooth_pressure(mesh, pressure):\n",
    "    # Smooths the pressure field.\n",
    "    # Assuming that pressure lies on the submesh, do a cell -> nodes -> cell\n",
    "    # projection.\n",
    "    NodePressure = uw.mesh.MeshVariable(mesh, nodeDofCount=1)\n",
    "    Cell2Nodes = uw.utils.MeshVariable_Projection(NodePressure, pressure, type=0)\n",
    "    #Nodes2Cell = uw.utils.MeshVariable_Projection(pressure, NodePressure, type=0)\n",
    "    Cell2Nodes.solve()\n",
    "    #Nodes2Cell.solve()"
   ]
  },
  {
   "cell_type": "code",
   "execution_count": null,
   "metadata": {
    "collapsed": true,
    "deletable": true,
    "editable": true
   },
   "outputs": [],
   "source": [
    "pressureField.data[:], LPresBot = lithoPressure(mesh,densityFn, gravity)\n",
    "smooth_pressure(mesh, pressureField)"
   ]
  },
  {
   "cell_type": "code",
   "execution_count": null,
   "metadata": {
    "collapsed": true,
    "deletable": true,
    "editable": true
   },
   "outputs": [],
   "source": [
    "checkpoint_number = 0\n",
    "time_year = 0.\n",
    "mH = mesh.save(os.path.join(uw_output_path, \"mesh.h5\"), scaling, units=u.kilometers)\n",
    "file_prefix = os.path.join(uw_output_path, 'pressure-%s' % checkpoint_number)\n",
    "handle = pressureField.save('%s.h5' % file_prefix, scaling=scaling, units=u.megapascal)\n",
    "pressureField.xdmf('%s.xdmf' % file_prefix, handle, 'pressure', mH, 'mesh', modeltime=time_year)    "
   ]
  },
  {
   "cell_type": "markdown",
   "metadata": {
    "deletable": true,
    "editable": true
   },
   "source": [
    "## Initial Stress Field"
   ]
  },
  {
   "cell_type": "code",
   "execution_count": null,
   "metadata": {
    "collapsed": true,
    "deletable": true,
    "editable": true
   },
   "outputs": [],
   "source": [
    "if BottomStressBC:\n",
    "    val = LPresBot[4]\n",
    "\n",
    "    for node in mesh.specialSets[\"MinK_VertexSet\"]:\n",
    "        stressField.data[node] = [0.0, -1.0*val, 0.0]"
   ]
  },
  {
   "cell_type": "markdown",
   "metadata": {
    "deletable": true,
    "editable": true
   },
   "source": [
    "# Boundary conditions"
   ]
  },
  {
   "cell_type": "code",
   "execution_count": null,
   "metadata": {
    "collapsed": true,
    "deletable": true,
    "editable": true
   },
   "outputs": [],
   "source": [
    "left  = mesh.specialSets[\"MinI_VertexSet\"] \n",
    "right = mesh.specialSets[\"MaxI_VertexSet\"]\n",
    "front = mesh.specialSets[\"MinJ_VertexSet\"]\n",
    "back  = mesh.specialSets[\"MaxJ_VertexSet\"]\n",
    "\n",
    "Bottom = mesh.specialSets[\"MinK_VertexSet\"]\n",
    "Top = mesh.specialSets[\"MaxK_VertexSet\"]"
   ]
  },
  {
   "cell_type": "markdown",
   "metadata": {
    "deletable": true,
    "editable": true
   },
   "source": [
    "## Kinematic Boundary Conditions"
   ]
  },
  {
   "cell_type": "code",
   "execution_count": null,
   "metadata": {
    "collapsed": true,
    "deletable": true,
    "editable": true
   },
   "outputs": [],
   "source": [
    "half_rate = nd(half_rate, scaling)\n",
    "\n",
    "for index in left:\n",
    "    velocityField.data[index] = [half_rate,0.0,0.0]\n",
    "for index in right:\n",
    "    velocityField.data[index] = [-1.0*half_rate,0.0,0.0]"
   ]
  },
  {
   "cell_type": "code",
   "execution_count": null,
   "metadata": {
    "collapsed": true,
    "deletable": true,
    "editable": true
   },
   "outputs": [],
   "source": [
    "if BottomStressBC:\n",
    "    stokesBC = uw.conditions.DirichletCondition(variable=velocityField, \n",
    "                                                indexSetsPerDof=(iWalls, topCorners+botCorners))\n",
    "\n",
    "    stressBc = uw.conditions.NeumannCondition(flux=stressField, variable=velocityField, \n",
    "                                              nodeIndexSet=base-botCorners)\n",
    "    \n",
    "else:\n",
    "    stokesBC = uw.conditions.DirichletCondition( variable      = velocityField, \n",
    "                                                 indexSetsPerDof = (left+right, Bottom))\n",
    "\n",
    "    stressBc = None"
   ]
  },
  {
   "cell_type": "markdown",
   "metadata": {
    "deletable": true,
    "editable": true
   },
   "source": [
    "## Thermal Boundary Conditions"
   ]
  },
  {
   "cell_type": "code",
   "execution_count": null,
   "metadata": {
    "collapsed": true,
    "deletable": true,
    "editable": true
   },
   "outputs": [],
   "source": [
    "DirichletTBCs = uw.conditions.DirichletCondition( variable = temperatureField, indexSetsPerDof = [airIndices+Bottom,])\n",
    "\n",
    "advdiffSystem = uw.systems.AdvectionDiffusion(temperatureField,\n",
    "                                              temperatureDotField,\n",
    "                                              velocityField=velocityField,\n",
    "                                              fn_diffusivity=DiffusivityFn,\n",
    "                                              fn_sourceTerm=HeatProdFn,\n",
    "                                              conditions=[DirichletTBCs])"
   ]
  },
  {
   "cell_type": "markdown",
   "metadata": {
    "deletable": true,
    "editable": true
   },
   "source": [
    "## Stokes"
   ]
  },
  {
   "cell_type": "code",
   "execution_count": null,
   "metadata": {
    "collapsed": true,
    "deletable": true,
    "editable": true
   },
   "outputs": [],
   "source": [
    "if BottomStressBC:\n",
    "    conditions = [stokesBC, stressBc]\n",
    "else:\n",
    "    conditions = [stokesBC,]\n",
    "\n",
    "\n",
    "stokes = uw.systems.Stokes(    velocityField = velocityField, \n",
    "                               pressureField = solverPressure,\n",
    "                               conditions    = conditions,\n",
    "                               fn_viscosity  = viscosityFn, \n",
    "                               fn_bodyforce  = buoyancyFn)\n",
    "\n",
    "solver = uw.systems.Solver( stokes )\n",
    "solver.set_inner_method(\"mumps\")\n",
    "solver.set_penalty(1.0e6)"
   ]
  },
  {
   "cell_type": "markdown",
   "metadata": {
    "deletable": true,
    "editable": true
   },
   "source": [
    "## Initial Damage Zone"
   ]
  },
  {
   "cell_type": "code",
   "execution_count": null,
   "metadata": {
    "collapsed": true,
    "deletable": true,
    "editable": true
   },
   "outputs": [],
   "source": [
    "def damage(xx, yy, Lx, Ly):\n",
    "    return (1 - np.cos(2.0 * np.pi * xx / Lx))**4 * (1-np.cos(2.0*np.pi * yy / Ly)) \n",
    "\n",
    "for id, (x,y) in enumerate(swarm.particleCoordinates.data):\n",
    "    if materialIndexField.data[id] != air.index:\n",
    "        cumulativeTotalStrain.data[id] = damage(x, y, (maxX-minX), (crust.top-minY))\n",
    "    \n",
    "fn_minmax = fn.view.min_max(cumulativeTotalStrain)\n",
    "fn_minmax.evaluate(swarm)\n",
    "cumulativeTotalStrain.data[...] = cumulativeTotalStrain.data[...] / fn_minmax.max_global() * 1.75\n",
    "cumulativeTotalStrain.data[...] *= np.random.rand(*cumulativeTotalStrain.data.shape[:])"
   ]
  },
  {
   "cell_type": "code",
   "execution_count": null,
   "metadata": {
    "collapsed": true,
    "deletable": true,
    "editable": true
   },
   "outputs": [],
   "source": [
    "sH = swarm.save(os.path.join(uw_output_path, 'swarm-%s.h5' % checkpoint_number), scaling, units=u.kilometers)\n",
    "file_prefix = os.path.join(uw_output_path, 'cumulativeTotalStrain-%s' % checkpoint_number)\n",
    "handle = cumulativeTotalStrain.save('%s.h5' % file_prefix)\n",
    "cumulativeTotalStrain.xdmf('%s.xdmf' % file_prefix, handle, 'cumulativeTotalStrain', sH, 'swarm', modeltime=time_years)"
   ]
  },
  {
   "cell_type": "markdown",
   "metadata": {
    "deletable": true,
    "editable": true
   },
   "source": [
    "## Simple Erosion"
   ]
  },
  {
   "cell_type": "code",
   "execution_count": null,
   "metadata": {
    "collapsed": true,
    "deletable": true,
    "editable": true
   },
   "outputs": [],
   "source": [
    "sealevel = nd(0.0 * u.kilometer, scaling)\n",
    "\n",
    "AboveWaterCond = [(((materialIndexField > air.index + 0.1 ) & (fn.input()[1] > sealevel)), air.index), (True, materialIndexField)]\n",
    "erosionFn = fn.branching.conditional(AboveWaterCond)"
   ]
  },
  {
   "cell_type": "markdown",
   "metadata": {
    "deletable": true,
    "editable": true
   },
   "source": [
    "## Simple Sedimentation"
   ]
  },
  {
   "cell_type": "code",
   "execution_count": null,
   "metadata": {
    "collapsed": true,
    "deletable": true,
    "editable": true
   },
   "outputs": [],
   "source": [
    "UnderWaterCond = [(((materialIndexField < air.index + 0.1 ) & (fn.input()[1] < sealevel)), sediment.index), (True, materialIndexField)]\n",
    "sedimentationFn = fn.branching.conditional(UnderWaterCond)"
   ]
  },
  {
   "cell_type": "markdown",
   "metadata": {
    "deletable": true,
    "editable": true
   },
   "source": [
    "# Plastic strain accumulation Envelope"
   ]
  },
  {
   "cell_type": "code",
   "execution_count": null,
   "metadata": {
    "collapsed": true,
    "deletable": true,
    "editable": true
   },
   "outputs": [],
   "source": [
    "import math\n",
    "# envelope to ensure the localisation stays clear of the boundary\n",
    "def boundary(xx, minX, maxX, width, power):\n",
    "    zz = xx / (maxX - minX)\n",
    "    return (np.tanh(zz*width) + np.tanh((1.0-zz)*width) - math.tanh(width))**power"
   ]
  },
  {
   "cell_type": "markdown",
   "metadata": {
    "deletable": true,
    "editable": true
   },
   "source": [
    "# Passive Tracers"
   ]
  },
  {
   "cell_type": "code",
   "execution_count": null,
   "metadata": {
    "collapsed": true,
    "deletable": true,
    "editable": true
   },
   "outputs": [],
   "source": [
    "xp = np.linspace(minX, maxX, 100)\n",
    "yp = np.linspace(minY, maxY, 100)\n",
    "\n",
    "xp, yp = np.meshgrid(xp, yp)\n",
    "xp = xp.flatten()\n",
    "yp = yp.flatten()\n",
    "zp = np.zeros(xp.shape)\n",
    "\n",
    "coordsTracers = zip(xp,yp,zp)\n",
    "\n",
    "surfaceSwarm = uw.swarm.Swarm( mesh = mesh, particleEscape=True)\n",
    "surfaceSwarm.add_particles_with_coordinates(np.array(coordsTracers))\n",
    "surfaceSwarmAdvector = uw.systems.SwarmAdvector( swarm=surfaceSwarm, velocityField=velocityField, order=2 )\n",
    "\n",
    "surfaceSwarmElevation = uw.swarm.SwarmVariable(swarm=surfaceSwarm, dataType=\"double\", count=surfaceSwarm.particleCoordinates.data[:,1].size)\n",
    "surfaceSwarmElevation.data[...] = surfaceSwarm.particleCoordinates.data[:,1]\n",
    "\n",
    "pass"
   ]
  },
  {
   "cell_type": "code",
   "execution_count": null,
   "metadata": {
    "collapsed": true,
    "deletable": true,
    "editable": true
   },
   "outputs": [],
   "source": [
    "sH = surfaceSwarm.save(os.path.join(uw_output_path, 'SurfaceSwarm-%s.h5' % checkpoint_number), scaling, units=u.kilometers)\n",
    "file_prefix = os.path.join(uw_output_path, 'SurfaceTracers-%s' % checkpoint_number)\n",
    "surfaceSwarmElevation.xdmf('%s.xdmf' % file_prefix, handle, 'SurfaceTracers', sH, 'SurfaceSwarm', modeltime=time_years)"
   ]
  },
  {
   "cell_type": "markdown",
   "metadata": {
    "deletable": true,
    "editable": true
   },
   "source": [
    "# Pressure Calibration"
   ]
  },
  {
   "cell_type": "code",
   "execution_count": null,
   "metadata": {
    "collapsed": true,
    "deletable": true,
    "editable": true
   },
   "outputs": [],
   "source": [
    "surfaceArea = uw.utils.Integral(fn=1.0,mesh=mesh, integrationType='surface', surfaceIndexSet=top)\n",
    "surfacePressureIntegral = uw.utils.Integral(fn=solverPressure, mesh=mesh, integrationType='surface', surfaceIndexSet=top)\n",
    "\n",
    "# Obtain V,P and remove null-space / drift in pressure\n",
    "def nonLinearSolver(step, nl_tol=1e-2, nl_maxIts=20):\n",
    "    # a hand written non linear loop for stokes, with pressure correction\n",
    "    \n",
    "    er = 1.0\n",
    "    its = 0                      # iteration count\n",
    "    v_old = velocityField.copy() # old velocityField \n",
    "    residuals = []\n",
    "\n",
    "    while er > nl_tol and its < nl_maxIts:\n",
    "\n",
    "        v_old.data[:] = velocityField.data[:]\n",
    "        solver.solve(nonLinearIterate=False)\n",
    "\n",
    "        # pressure correction\n",
    "        (area,) = surfaceArea.evaluate()\n",
    "        (p0,) = surfacePressureIntegral.evaluate() \n",
    "        pressureField.data[:] = solverPressure.data[:] - (p0 / area)\n",
    "        smooth_pressure(mesh, pressureField)\n",
    "\n",
    "        # calculate relative error\n",
    "        absErr = uw.utils._nps_2norm(velocityField.data-v_old.data)\n",
    "        magT   = uw.utils._nps_2norm(v_old.data)\n",
    "        er = absErr/magT\n",
    "        residuals.append(er)\n",
    "\n",
    "        if uw.rank() == 0:\n",
    "            if not is_kernel():\n",
    "                print(er)\n",
    "                \n",
    "        its += 1\n",
    "        \n",
    "    del(v_old)"
   ]
  },
  {
   "cell_type": "markdown",
   "metadata": {
    "deletable": true,
    "editable": true
   },
   "source": [
    "## Checkpoint Function"
   ]
  },
  {
   "cell_type": "code",
   "execution_count": null,
   "metadata": {
    "collapsed": true,
    "deletable": true,
    "editable": true
   },
   "outputs": [],
   "source": [
    "def checkpoint_function(checkpoint_number, time_years):\n",
    "    \n",
    "    print('Writing Underworld outputs (years)',time_years)\n",
    "    \n",
    "    mH = mesh.save(os.path.join(outputDir, \"mesh.h5\"), scaling, units=u.kilometers)\n",
    "\n",
    "    file_prefix = os.path.join(outputDir, 'velocity-%s' % checkpoint_number)\n",
    "    handle = velocityField.save('%s.h5' % file_prefix, scaling=scaling, units=u.centimeter/u.year)\n",
    "    velocityField.xdmf('%s.xdmf' % file_prefix, handle, 'velocity', mH, 'mesh', modeltime=time_years)\n",
    "\n",
    "    file_prefix = os.path.join(outputDir, 'pressure-%s' % checkpoint_number)\n",
    "    handle = pressureField.save('%s.h5' % file_prefix, scaling=scaling, units=u.megapascal)\n",
    "    pressureField.xdmf('%s.xdmf' % file_prefix, handle, 'pressure', mH, 'mesh', modeltime=time_years)\n",
    "    \n",
    "    file_prefix = os.path.join(outputDir, 'temperature-%s' % checkpoint_number)\n",
    "    handle = temperatureField.save('%s.h5' % file_prefix, scaling=scaling, units=u.degC)\n",
    "    temperatureField.xdmf('%s.xdmf' % file_prefix, handle, 'temperature', mH, 'mesh', modeltime=time_years)\n",
    "\n",
    "    sH = swarm.save(os.path.join(outputDir, 'swarm-%s.h5' % checkpoint_number), scaling, units=u.kilometers)\n",
    "\n",
    "    file_prefix = os.path.join(outputDir, 'material-%s' % checkpoint_number)\n",
    "    handle = materialIndexField.save('%s.h5' % file_prefix)\n",
    "    materialIndexField.xdmf('%s.xdmf' % file_prefix, handle, 'material', sH, 'swarm', modeltime=time_years)\n",
    "   \n",
    "    file_prefix = os.path.join(outputDir, 'Pstrain-%s' % checkpoint_number)\n",
    "    handle = cumulativeTotalStrain.save('%s.h5' % file_prefix)\n",
    "    cumulativeTotalStrain.xdmf('%s.xdmf' % file_prefix, handle, 'Pstrain', sH, 'swarm', modeltime=time_years)\n",
    "    \n",
    "    strainRate.data[...] = strainRate_2ndInvariantFn.evaluate(swarm)\n",
    "    file_prefix = os.path.join(outputDir, 'strainR-%s' % checkpoint_number)\n",
    "    handle = strainRate.save('%s.h5' % file_prefix, scaling, units= 1.0 / u.seconds)\n",
    "    strainRate.xdmf('%s.xdmf' % file_prefix, handle, 'strainR', sH, 'swarm', modeltime=time_years)\n",
    "\n",
    "    tsH = surfaceSwarm.save(os.path.join(outputDir, 'tracer_swarm-%s.h5' % checkpoint_number),\n",
    "                            scaling=scaling, units=u.kilometers)\n",
    "\n",
    "    file_prefix = os.path.join(outputDir, 'tracer-%s' % checkpoint_number)\n",
    "    handle = surfaceSwarm.particleCoordinates.save('%s.h5' % file_prefix, scaling=scaling, units=u.kilometers)\n",
    "    surfaceSwarm.particleCoordinates.xdmf('%s.xdmf' % file_prefix, handle, 'tvar', tsH, 'tracer', modeltime=time_years)"
   ]
  },
  {
   "cell_type": "markdown",
   "metadata": {
    "deletable": true,
    "editable": true
   },
   "source": [
    "# Main simulation loop\n",
    "----------------------------------------"
   ]
  },
  {
   "cell_type": "code",
   "execution_count": null,
   "metadata": {
    "collapsed": true,
    "deletable": true,
    "editable": true
   },
   "outputs": [],
   "source": [
    "advector   = uw.systems.SwarmAdvector( swarm = swarm, velocityField=velocityField, order=2 )\n",
    "advectorSurface  = uw.systems.SwarmAdvector( swarm = surfaceSwarm, velocityField=velocityField, order=2 )\n",
    "\n",
    "population_control = uw.swarm.PopulationControl(swarm, \n",
    "                                                aggressive=True,splitThreshold=0.15, \n",
    "                                                maxDeletions=2,maxSplits=10,\n",
    "                                                particlesPerCell=20)"
   ]
  },
  {
   "cell_type": "code",
   "execution_count": null,
   "metadata": {
    "collapsed": true,
    "deletable": true,
    "editable": true
   },
   "outputs": [],
   "source": [
    "time = 0.\n",
    "endTime = nd(5.0 * u.megayear, scaling)\n",
    "\n",
    "step = 0\n",
    "nsteps = 30\n",
    "checkpoint_number = 0\n",
    "\n",
    "def get_dt(CFL=0.2, threshold = 2500):\n",
    "    dt3 = nd(threshold * u.year, scaling)\n",
    "    dt4 = CFL * advdiffSystem.get_max_dt()\n",
    "    return min(dt3,dt4)\n",
    "\n",
    "\n",
    "while step < nsteps:\n",
    "    \n",
    "    nonLinearSolver(step, nl_tol=1e-2, nl_maxIts=40)\n",
    "    \n",
    "    if step % 10 == 0:\n",
    "        checkpoint_number +=1\n",
    "        checkpoint_function(checkpoint_number, Dimensionalize(time, scaling, u.years).magnitude)\n",
    "\n",
    "    # obtain a timestep and apply a courant factor\n",
    "    dt = get_dt()\n",
    "         \n",
    "    if uw.rank()==0:   \n",
    "        print('step = {0:6d}; time = {1:.3e}'.format(step, Dimensionalize(time, scaling, u.megayears)))\n",
    "        \n",
    "    uw.barrier()\n",
    "    \n",
    "    # update plastic strain\n",
    "    plasticStrainIncrement = dt * isYielding.evaluate(swarm)\n",
    "    weight = boundary(swarm.particleCoordinates.data[:,0], minX, maxX, 20, 4)\n",
    "    plasticStrainIncrement[:,0] *= weight\n",
    "    cumulativeTotalStrain.data[:] += plasticStrainIncrement\n",
    "    \n",
    "    # Solve for temperature\n",
    "    advdiffSystem.integrate(dt)\n",
    "\n",
    "    # integrate swarms in time\n",
    "    advector.integrate(dt, update_owners=True)  \n",
    "    advectorSurface.integrate(dt, update_owners=True)  \n",
    "\n",
    "    # repopulate swarm.\n",
    "    population_control.repopulate() \n",
    "        \n",
    "    # Do basic surface processes\n",
    "    if Sedimentation: \n",
    "        materialIndexField.data[:] = sedimentationFn.evaluate(swarm)\n",
    "    \n",
    "    if Erosion:\n",
    "        materialIndexField.data[:] = erosionFn.evaluate(swarm)\n",
    "       \n",
    "    step +=1\n",
    "    time +=dt"
   ]
  },
  {
   "cell_type": "code",
   "execution_count": null,
   "metadata": {
    "collapsed": true,
    "deletable": true,
    "editable": true
   },
   "outputs": [],
   "source": [
    "if is_kernel():\n",
    "    FigMaterials.show()"
   ]
  },
  {
   "cell_type": "code",
   "execution_count": null,
   "metadata": {
    "collapsed": true,
    "deletable": true,
    "editable": true
   },
   "outputs": [],
   "source": [
    "if is_kernel():\n",
    "    FigVelocity.show()"
   ]
  },
  {
   "cell_type": "code",
   "execution_count": null,
   "metadata": {
    "collapsed": true,
    "deletable": true,
    "editable": true
   },
   "outputs": [],
   "source": [
    "if is_kernel():\n",
    "    FigPlasticStrain.show()"
   ]
  }
 ],
 "metadata": {
  "celltoolbar": "Raw Cell Format",
  "kernelspec": {
   "display_name": "Python 2",
   "language": "python",
   "name": "python2"
  },
  "language_info": {
   "codemirror_mode": {
    "name": "ipython",
    "version": 2
   },
   "file_extension": ".py",
   "mimetype": "text/x-python",
   "name": "python",
   "nbconvert_exporter": "python",
   "pygments_lexer": "ipython2",
   "version": "2.7.9"
  }
 },
 "nbformat": 4,
 "nbformat_minor": 1
}
