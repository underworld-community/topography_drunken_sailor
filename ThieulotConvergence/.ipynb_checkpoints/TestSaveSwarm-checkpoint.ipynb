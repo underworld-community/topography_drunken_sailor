{
 "cells": [
  {
   "cell_type": "code",
   "execution_count": null,
   "metadata": {
    "collapsed": true
   },
   "outputs": [],
   "source": [
    "import underworld as uw\n",
    "import underworld.function as fn\n",
    "import numpy as np\n",
    "import os"
   ]
  },
  {
   "cell_type": "code",
   "execution_count": null,
   "metadata": {
    "collapsed": true
   },
   "outputs": [],
   "source": [
    "outputDir = './test/'\n",
    "        \n",
    "if uw.rank() == 0:\n",
    "    if not os.path.exists(outputDir):\n",
    "        os.makedirs(outputDir)"
   ]
  },
  {
   "cell_type": "code",
   "execution_count": null,
   "metadata": {
    "collapsed": true
   },
   "outputs": [],
   "source": [
    "nx = 200\n",
    "ny = 50\n",
    "\n",
    "minX = 0.\n",
    "maxX = 4.0\n",
    "minY = 0.0\n",
    "maxY = 1.0\n",
    "\n",
    "mesh = uw.mesh.FeMesh_Cartesian(elementType = (\"Q1/dQ0\"),\n",
    "                                elementRes  = (nx, ny),\n",
    "                                minCoord    = (minX, minY),\n",
    "                                maxCoord    = (maxX, maxY),\n",
    "                                periodic    = (False, False))"
   ]
  },
  {
   "cell_type": "code",
   "execution_count": null,
   "metadata": {
    "collapsed": true
   },
   "outputs": [],
   "source": [
    "swarm  = uw.swarm.Swarm( mesh = mesh, particleEscape=True)\n",
    "swarmLayout = uw.swarm.layouts.GlobalSpaceFillerLayout( swarm = swarm, particlesPerCell=25 )\n",
    "swarm.populate_using_layout( layout = swarmLayout )"
   ]
  },
  {
   "cell_type": "code",
   "execution_count": null,
   "metadata": {
    "collapsed": true
   },
   "outputs": [],
   "source": [
    "plasticStrain = swarm.add_variable( dataType=\"double\", count=1)\n",
    "plasticStrain.data[...] = 0.0"
   ]
  },
  {
   "cell_type": "code",
   "execution_count": null,
   "metadata": {
    "collapsed": false
   },
   "outputs": [],
   "source": [
    "def damage(xx, yy, Lx, Ly):\n",
    "    return (1 - np.cos(2.0 * np.pi * xx / Lx))**4 * (1-np.cos(2.0*np.pi * yy / Ly)) \n",
    "\n",
    "for id, (x,y) in enumerate(swarm.particleCoordinates.data):\n",
    "    plasticStrain.data[id] = damage(x, y, (maxX-minX), (maxY-minY))\n",
    "    \n",
    "plasticStrain.data[...] = plasticStrain.data[...] / plasticStrain.data.max() * 1.5\n",
    "plasticStrain.data[...] *= np.random.rand(*plasticStrain.data.shape[:])"
   ]
  },
  {
   "cell_type": "code",
   "execution_count": null,
   "metadata": {
    "collapsed": false
   },
   "outputs": [],
   "source": [
    "checkpoint_number = 0\n",
    "time_years = 0.0\n",
    "\n",
    "sH = swarm.save(os.path.join(outputDir, 'swarm-%s.h5' % checkpoint_number))\n",
    "file_prefix = os.path.join(outputDir, 'Pstrain-%s' % checkpoint_number)\n",
    "handle = plasticStrain.save('%s.h5' % file_prefix)\n",
    "plasticStrain.xdmf('%s.xdmf' % file_prefix, handle, 'Pstrain', sH, 'swarm', modeltime=time_years)"
   ]
  }
 ],
 "metadata": {
  "kernelspec": {
   "display_name": "Python 2",
   "language": "python2",
   "name": "python2"
  },
  "language_info": {
   "codemirror_mode": {
    "name": "ipython",
    "version": 2
   },
   "file_extension": ".py",
   "mimetype": "text/x-python",
   "name": "python",
   "nbconvert_exporter": "python",
   "pygments_lexer": "ipython2",
   "version": "2.7.13"
  }
 },
 "nbformat": 4,
 "nbformat_minor": 2
}
