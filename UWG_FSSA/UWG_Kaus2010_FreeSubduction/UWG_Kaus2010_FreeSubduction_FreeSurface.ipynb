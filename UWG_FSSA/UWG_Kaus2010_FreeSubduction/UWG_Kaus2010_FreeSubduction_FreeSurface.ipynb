{
 "cells": [
  {
   "cell_type": "markdown",
   "id": "fde70fe6",
   "metadata": {},
   "source": [
    "Free subduction experiment in which a linear viscous slab sinks into a linear viscous mantle. The upper boundary condition is either free slip (left) or free surface (right). Clearly, the upper boundary condition has a significant effect on subduction dynamics, and only the free surface case is consistent with results of laboratory experiments. The average time step for the free surface case is significantly smaller than for the free surface case. Model parameters employed are: the slab has a density of?=3250kg/m3 and a viscosity of ?=1023 Pa s, whereas the mantle has ?=3200kg/m3, ?=1020 Pa s, the initial slab was 50km thick, 1500km long, and has a 125km long notch that initially subducted with an angle of 34◦. Free slip conditions are applied on the lower and side boundaries, and gravitational acceleration was 9.81 m/s2.\n",
    "of∼800,000"
   ]
  },
  {
   "cell_type": "code",
   "execution_count": null,
   "id": "8f106aa6",
   "metadata": {},
   "outputs": [],
   "source": [
    "import UWGeodynamics as GEO\n",
    "from UWGeodynamics import visualisation as vis"
   ]
  },
  {
   "cell_type": "markdown",
   "id": "804ce3ec",
   "metadata": {},
   "source": [
    "## Scaling"
   ]
  },
  {
   "cell_type": "code",
   "execution_count": null,
   "id": "450b9c46",
   "metadata": {},
   "outputs": [],
   "source": [
    "u = GEO.UnitRegistry\n",
    "half_rate = 1.0 * u.centimeter / u.year\n",
    "model_length = 2000 * u.km\n",
    "bodyforce = 3200 * u.kg / u.m**3 * 9.81 * u.m / u.s**2\n",
    "\n",
    "KL = model_length\n",
    "Kt = KL / half_rate\n",
    "KM = bodyforce * KL**2 * Kt**2\n",
    "\n",
    "GEO.scaling_coefficients[\"[length]\"] = KL\n",
    "GEO.scaling_coefficients[\"[time]\"] = Kt\n",
    "GEO.scaling_coefficients[\"[mass]\"]= KM"
   ]
  },
  {
   "cell_type": "markdown",
   "id": "d2310ce9",
   "metadata": {},
   "source": [
    "## Model Geometry"
   ]
  },
  {
   "cell_type": "code",
   "execution_count": null,
   "id": "bbf3d93f",
   "metadata": {},
   "outputs": [],
   "source": [
    "gravity_vector = (0.0, -9.81 * u.m / u.s**2)\n",
    "Model = GEO.Model(elementRes=(128, 32), \n",
    "                  elementType=\"Q2/dPc1\",\n",
    "                  minCoord=(0. * u.km, -600. * u.km), \n",
    "                  maxCoord=(2000. * u.km, 0. * u.km), \n",
    "                  gravity=gravity_vector)\n",
    "Model.outputDir=\"outputs_Kaus2010_FS_FreeSurf\""
   ]
  },
  {
   "cell_type": "code",
   "execution_count": null,
   "id": "81659b3d",
   "metadata": {},
   "outputs": [],
   "source": [
    "import underworld.function as fn\n",
    "import numpy as np"
   ]
  },
  {
   "cell_type": "code",
   "execution_count": null,
   "id": "aad9583a",
   "metadata": {},
   "outputs": [],
   "source": [
    "angle = 34.0 * u.degree\n",
    "dx1 = np.cos(angle) * 125. * u.kilometer\n",
    "dy1 = np.sin(angle) * 125. * u.kilometer \n",
    "dx2 = np.sin(angle) * 50. * u.kilometer\n",
    "dy2 = np.cos(angle) * 50. * u.kilometer\n",
    "\n",
    "polygon1 = GEO.shapes.Polygon([(500. * u.kilometer, 0. * u.kilometer),\n",
    "                              (500. * u.kilometer - dx1, 0. * u.kilometer - dy1),\n",
    "                              (500. * u.kilometer - dx1 + dx2, 0. * u.kilometer - dy1 - dy2),\n",
    "                              (500. * u.kilometer + dx2, 0. * u.kilometer - dy2)])\n",
    "\n",
    "polygon2 = GEO.shapes.Polygon([(500. * u.kilometer, 0. * u.kilometer),\n",
    "                              (500. * u.kilometer, -50. * u.kilometer),\n",
    "                              (2000. * u.kilometer , -50. * u.kilometer),\n",
    "                              (2000. * u.kilometer, 0. * u.kilometer)])\n",
    "\n",
    "polygon = polygon1 | polygon2"
   ]
  },
  {
   "cell_type": "code",
   "execution_count": null,
   "id": "607629ef",
   "metadata": {},
   "outputs": [],
   "source": [
    "Mantle = Model.add_material(name=\"Mantle\", shape=GEO.shapes.Layer(top=0.*u.kilometer, bottom=Model.bottom))\n",
    "Lithosphere = Model.add_material(name=\"Lithosphere\", shape=polygon)"
   ]
  },
  {
   "cell_type": "code",
   "execution_count": null,
   "id": "3ba5567b",
   "metadata": {},
   "outputs": [],
   "source": [
    "Fig = vis.Figure(figsize=(1200,400))\n",
    "Fig.Points(Model.swarm, Model.materialField)\n",
    "Fig.show()"
   ]
  },
  {
   "cell_type": "code",
   "execution_count": null,
   "id": "a200c0bf",
   "metadata": {},
   "outputs": [],
   "source": [
    "x1, y1 = GEO.nd(500. * u.km - dx1), GEO.nd(-dy1)\n",
    "x2, y2 = GEO.nd(500. * u.km - dx1 + dx2/2.0), GEO.nd(-dy1 - dy2/2.0)\n",
    "x3, y3 = GEO.nd(500. * u.km - dx1 + dx2), GEO.nd(-dy1 - dy2)\n",
    "\n",
    "coords = np.ndarray((3, 2))\n",
    "coords[:, 0] = np.array([x1, x2, x3])\n",
    "coords[:, 1] = np.array([y1, y2, y3])\n",
    "\n",
    "Model.add_passive_tracers(name=\"tip\", vertices=coords)"
   ]
  },
  {
   "cell_type": "code",
   "execution_count": null,
   "id": "365d432d",
   "metadata": {},
   "outputs": [],
   "source": [
    "from UWGeodynamics import visualisation as vis\n",
    "Fig = vis.Figure(figsize=(1200,400))\n",
    "Fig.Points(Model.tip_tracers, pointSize=5.0)\n",
    "Fig.Points(Model.swarm, Model.materialField, fn_size=3.0)\n",
    "Fig.show()"
   ]
  },
  {
   "cell_type": "code",
   "execution_count": null,
   "id": "77ad180c",
   "metadata": {},
   "outputs": [],
   "source": [
    "Mantle.viscosity = 1e20 * u.pascal * u.second\n",
    "Lithosphere.viscosity = 1e23 * u.pascal * u.second\n",
    "\n",
    "Mantle.density = 3200. * u.kilogram / u.metre**3\n",
    "Lithosphere.density = 3250. * u.kilogram / u.metre**3"
   ]
  },
  {
   "cell_type": "code",
   "execution_count": null,
   "id": "b00616d3",
   "metadata": {},
   "outputs": [],
   "source": [
    "Model.set_velocityBCs(left=[0., None],\n",
    "                      right=[0., None],\n",
    "                      bottom=[None, 0.],\n",
    "                      top=[None, None],\n",
    "                      order_wall_conditions=[ \"top\", \"left\", \"right\", \"bottom\"])"
   ]
  },
  {
   "cell_type": "code",
   "execution_count": null,
   "id": "8ea2464b",
   "metadata": {},
   "outputs": [],
   "source": [
    "Model.freeSurface = True\n",
    "Model.fssa_factor = 1.0"
   ]
  },
  {
   "cell_type": "code",
   "execution_count": null,
   "id": "d7ab8636",
   "metadata": {},
   "outputs": [],
   "source": [
    "Model.init_model(pressure=\"lithostatic\")"
   ]
  },
  {
   "cell_type": "code",
   "execution_count": null,
   "id": "88eaabb5",
   "metadata": {},
   "outputs": [],
   "source": [
    "Model.solver.set_inner_method(\"mumps\")\n",
    "Model.solver.set_penalty(1e6)\n",
    "GEO.rcParams[\"initial.nonlinear.tolerance\"] = 1e-4\n",
    "\n",
    "outputss=['pressureField',\n",
    "         'strainRateField',\n",
    "         'velocityField',\n",
    "          'projTimeField',\n",
    "           'projMaterialField',\n",
    "         'projViscosityField',\n",
    "         'projStressField',\n",
    "         'projDensityField',\n",
    "         'projStressTensor',]\n",
    "GEO.rcParams['default.outputs']=outputss"
   ]
  },
  {
   "cell_type": "code",
   "execution_count": null,
   "id": "a263acf3",
   "metadata": {},
   "outputs": [],
   "source": [
    "Model.run_for(22 * u.megayears, checkpoint_interval=0.5 * u.megayears,dt=5000*u.year)"
   ]
  },
  {
   "cell_type": "code",
   "execution_count": null,
   "id": "42b08097",
   "metadata": {},
   "outputs": [],
   "source": [
    "#Model.run_for(nstep=220, checkpoint_interval=20, dt=5000*u.year)"
   ]
  },
  {
   "cell_type": "code",
   "execution_count": null,
   "id": "ecd1a063",
   "metadata": {},
   "outputs": [],
   "source": [
    "#Model.run_for(nstep=4400, checkpoint_interval=200, dt=5000*u.year)"
   ]
  },
  {
   "cell_type": "code",
   "execution_count": null,
   "id": "cbdf51d1",
   "metadata": {},
   "outputs": [],
   "source": [
    "#Model.run_for(nstep=588, checkpoint_interval=1, dt=500000*u.year)"
   ]
  },
  {
   "cell_type": "code",
   "execution_count": null,
   "id": "4a39c93d",
   "metadata": {},
   "outputs": [],
   "source": [
    "Fig = vis.Figure(figsize=(1200,400))\n",
    "Fig.Surface(Model.mesh, Model.strainRateField, logScale=False, colours=\"coolwarm\")\n",
    "Fig.VectorArrows(Model.mesh, Model.velocityField)\n",
    "Fig.show()"
   ]
  },
  {
   "cell_type": "code",
   "execution_count": null,
   "id": "0c4d0f9e",
   "metadata": {},
   "outputs": [],
   "source": [
    "Fig = vis.Figure(figsize=(1200,400))\n",
    "Fig.Points(Model.swarm, Model.materialField)\n",
    "Fig.VectorArrows(Model.mesh, Model.velocityField)\n",
    "Fig.show()"
   ]
  },
  {
   "cell_type": "code",
   "execution_count": null,
   "id": "1b89d32f",
   "metadata": {},
   "outputs": [],
   "source": []
  },
  {
   "cell_type": "code",
   "execution_count": null,
   "id": "40e071e0",
   "metadata": {},
   "outputs": [],
   "source": []
  }
 ],
 "metadata": {
  "kernelspec": {
   "display_name": "Python 3 (ipykernel)",
   "language": "python",
   "name": "python3"
  },
  "language_info": {
   "codemirror_mode": {
    "name": "ipython",
    "version": 3
   },
   "file_extension": ".py",
   "mimetype": "text/x-python",
   "name": "python",
   "nbconvert_exporter": "python",
   "pygments_lexer": "ipython3",
   "version": "3.9.7"
  }
 },
 "nbformat": 4,
 "nbformat_minor": 5
}
