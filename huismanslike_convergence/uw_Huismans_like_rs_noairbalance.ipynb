{
 "cells": [
  {
   "cell_type": "markdown",
   "metadata": {},
   "source": [
    "https://github.com/rbeucher/UW_Huismans_like/blob/master/Huismans_like_model.ipynb"
   ]
  },
  {
   "cell_type": "code",
   "execution_count": 1,
   "metadata": {},
   "outputs": [],
   "source": [
    "import underworld as uw\n",
    "from underworld import function as fn\n",
    "from underworld.scaling import units as u\n",
    "from underworld.scaling import dimensionalise\n",
    "from underworld.scaling import non_dimensionalise as nd\n",
    "import underworld.visualisation as vis\n",
    "#from lithopress import Lithostatic_pressure    \n",
    "\n",
    "import numpy as np\n",
    "import math\n",
    "import os\n",
    "import matplotlib.pyplot as plt"
   ]
  },
  {
   "cell_type": "code",
   "execution_count": 2,
   "metadata": {},
   "outputs": [],
   "source": [
    "checkpoint_restart = False\n",
    "freesurf_bc = False\n",
    "\n",
    "if freesurf_bc:\n",
    "    outputfile = \"output_uw_Huismans_like_rs_stickair_fs/\"\n",
    "else:\n",
    "    outputfile = \"output_uw_Huismans_like_rs_stickair_noairbalance/\"\n",
    "outputPath = os.path.join(os.path.abspath(\".\"),outputfile) \n",
    "L_radio = 1\n",
    "    \n",
    "if uw.mpi.rank==0:\n",
    "    if not os.path.exists(outputPath):\n",
    "        os.makedirs(outputPath)\n",
    "uw.mpi.barrier()\n",
    "\n",
    "velocity = 1.0 * u.centimeter/u.year\n",
    "K_gravity = 10. * u.meter / u.second**2\n",
    "\n",
    "KL = 100 * u.kilometer\n",
    "K_viscosity = 1e18 * u.pascal * u.second\n",
    "K_density   = 3300 * u.kilogram / u.meter**3\n",
    "\n",
    "# build reference units\n",
    "#KM = K_density * KL **3\n",
    "#Kt = KM / ( KL * K_viscosity )\n",
    "\n",
    "Kt = KL /velocity\n",
    "bodyforce = K_density  * K_gravity \n",
    "KM = bodyforce * KL**2 * Kt**2\n",
    "\n",
    "scaling_coefficients = uw.scaling.get_coefficients()\n",
    "scaling_coefficients[\"[length]\"]      = KL.to_base_units()\n",
    "#scaling_coefficients[\"[temperature]\"] = Kt_degrees.to_base_units()\n",
    "scaling_coefficients[\"[time]\"]        = Kt.to_base_units()\n",
    "scaling_coefficients[\"[mass]\"]        = KM.to_base_units()\n",
    "\n",
    "gravity = nd(K_gravity)\n",
    "Dy = nd(-380* u.kilometer)\n",
    "Lx = nd(500* u.kilometer)\n",
    "Hy = nd(20* u.kilometer)\n",
    "\n",
    "xmin,xmax = -Lx*L_radio,Lx*L_radio\n",
    "ymin,ymax = Dy,Hy\n",
    "resolution = (int(160*L_radio),80)\n",
    "mesh = uw.mesh.FeMesh_Cartesian( elementType = 'Q1/dQ0', \n",
    "                                 elementRes  = resolution, \n",
    "                                 minCoord    = [xmin,ymin], \n",
    "                                 maxCoord    = [xmax,ymax],\n",
    "                                 periodic    = [False, False] )\n",
    "velocityField   = uw.mesh.MeshVariable( mesh=mesh,         nodeDofCount=mesh.dim )\n",
    "pressureField   = uw.mesh.MeshVariable( mesh=mesh.subMesh, nodeDofCount=1 )\n",
    "tractionField   = uw.mesh.MeshVariable( mesh=mesh,         nodeDofCount=mesh.dim )\n",
    "\n",
    "# set initial conditions (and boundary values)\n",
    "if checkpoint_restart == False:\n",
    "    velocityField.data[:] = [0.,0.]\n",
    "    pressureField.data[:] = 0.\n",
    "    tractionField.data[:] = [0.,0.]\n",
    "else:\n",
    "    velocityField.load(outputPath_restart+'velocityField.'+ str(step).zfill(5) +'.h5')\n",
    "    pressureField.load(outputPath_restart+'pressureField.'+ str(step).zfill(5) +'.h5')\n",
    "    #tractionField.load(outputPath_restart+'tractionField.'+ str(step).zfill(5) +'.h5')"
   ]
  },
  {
   "cell_type": "code",
   "execution_count": 5,
   "metadata": {},
   "outputs": [],
   "source": [
    "H_air = np.abs(Hy)\n",
    "D_crust = nd(-40 * u.kilometer)\n",
    "D_ml = nd(-160 * u.kilometer)\n",
    "\n",
    "coord = fn.input()\n",
    "#interface0 = (fn.math.sin(coord[0]*(2.*np.pi)/(xmax-xmin)/2.) + nd(0.*u.kilometer))*H_air/2.\n",
    "interface0 = fn.misc.constant(nd(0.*u.meter)) \n",
    "interface1 = fn.misc.constant(D_crust)  \n",
    "interface2 = fn.misc.constant(D_ml)"
   ]
  },
  {
   "cell_type": "code",
   "execution_count": 6,
   "metadata": {},
   "outputs": [],
   "source": [
    "particlesPerCell  = 20\n",
    "\n",
    "swarm = uw.swarm.Swarm( mesh=mesh,particleEscape=True)\n",
    "materialVariable = swarm.add_variable( dataType=\"int\", count=1)\n",
    "viscosityField = swarm.add_variable(dataType=\"double\", count=1)\n",
    "\n",
    "# # if reloading from checkpoint\n",
    "if checkpoint_restart == True:\n",
    "    swarm.load(outputPath_restart+'swarm.'         + str(step).zfill(5) +'.h5')\n",
    "    materialIndex.load( outputPath_restart+'materialIndex.' + str(step).zfill(5) +'.h5')\n",
    "    viscosityField.load( outputPath_restart+'viscosityField.' + str(step).zfill(5) +'.h5')\n",
    "else:\n",
    "    swarmLayout = uw.swarm.layouts.PerCellSpaceFillerLayout( swarm=swarm, particlesPerCell=particlesPerCell )\n",
    "    #swarmLayout = uw.swarm.layouts.PerCellGaussLayout( swarm=swarm, gaussPointCount=1)\n",
    "    swarm.populate_using_layout( layout=swarmLayout )\n",
    "    \n",
    "    viscosityField.data[:] = [0.]\n",
    "    \n",
    "    air_index = 1\n",
    "    crust_index = 2\n",
    "    ml_index = 3\n",
    "    ma_index = 4 \n",
    "    condition_shape = [(coord[1]>interface0,air_index),\n",
    "                       (coord[1]>interface1,crust_index),\n",
    "                       (coord[1]>interface2,ml_index),\n",
    "                        (True, ma_index)]  \n",
    "    materialVariable.data[:] = fn.branching.conditional(condition_shape).evaluate(swarm)    \n",
    "pop_control = uw.swarm.PopulationControl(swarm,aggressive=True,splitThreshold=0.15, maxDeletions=2,maxSplits=10,\n",
    "                                                particlesPerCell=20)"
   ]
  },
  {
   "cell_type": "code",
   "execution_count": 7,
   "metadata": {},
   "outputs": [],
   "source": [
    "# Density\n",
    "air_rho = nd(1. * u.kilogram / u.meter**3)\n",
    "crust_rho = nd(2700. * u.kilogram / u.meter**3)\n",
    "ml_rho = nd(3300. * u.kilogram / u.meter**3)\n",
    "ma_rho = nd(3300. * u.kilogram / u.meter**3)\n",
    "\n",
    "densityMap  = {air_index:0.,crust_index:crust_rho, ml_index:ml_rho,ma_index:ma_rho}\n",
    "densityFn   = fn.branching.map(fn_key= materialVariable, mapping = densityMap)\n",
    "\n",
    "densityVar =  uw.mesh.MeshVariable(mesh=mesh,nodeDofCount=1 )\n",
    "projectorDensity = uw.utils.MeshVariable_Projection(densityVar, densityFn, type=0)\n",
    "projectorDensity.solve()\n",
    "\n",
    "# Viscosity\n",
    "air_visc = nd(1e18 * u.pascal * u.second)\n",
    "crust_visc =  nd(1e22 * u.pascal * u.second)\n",
    "ml_visc =  nd(1e20 * u.pascal * u.second)\n",
    "ma_visc =  nd(1e20 * u.pascal * u.second)\n",
    "\n",
    "viscMap  = {air_index:air_visc,crust_index:crust_visc, ml_index:ml_visc,ma_index:ma_visc}\n",
    "viscFn   = fn.branching.map( fn_key= materialVariable, mapping = viscMap)\n",
    "\n",
    "_projviscosityField  = uw.mesh.MeshVariable(mesh=mesh,nodeDofCount=1 )\n",
    "_viscosityFieldProjector = uw.utils.MeshVariable_Projection(_projviscosityField,viscosityField,\n",
    "                                                     voronoi_swarm=swarm,type=0)\n",
    "viscosityField.data[...] = viscFn.evaluate(swarm)\n",
    "_viscosityFieldProjector.solve()\n",
    "\n",
    "strainRateFn = fn.tensor.symmetric( velocityField.fn_gradient )\n",
    "strainRate_2ndInvariant = fn.tensor.second_invariant( strainRateFn )\n",
    "\n",
    "forceFn = densityFn * (0.0,-gravity)\n",
    "#forceFn = (0.0,0.0)"
   ]
  },
  {
   "cell_type": "code",
   "execution_count": 8,
   "metadata": {},
   "outputs": [],
   "source": [
    "minbox = (xmin,ymin)\n",
    "maxbox = (xmax,ymax) \n",
    "figsize = (800,400)"
   ]
  },
  {
   "cell_type": "code",
   "execution_count": 9,
   "metadata": {},
   "outputs": [
    {
     "data": {
      "text/html": [
       "<img src='data:image/png;base64,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'>"
      ],
      "text/plain": [
       "<IPython.core.display.HTML object>"
      ]
     },
     "metadata": {},
     "output_type": "display_data"
    }
   ],
   "source": [
    "fig0 = vis.Figure( figsize=figsize,quality=3,clipmap=False, xmin=minbox[0], xmax=maxbox[0], ymin=minbox[1], ymax=maxbox[1],\n",
    "                        boundingBox=(minbox,maxbox),margin = 100, rulers = True, rulerticks=5)\n",
    "fig0.Points(swarm,materialVariable,pointSize=5,discrete=False,opacity=0.5,colourBar = False)#colours=\"jet\" ,\n",
    "fig0.VectorArrows(mesh,velocityField) #,scaling=2e-1) \n",
    "fig0.save(outputPath+'Model_steup.png') \n",
    "fig0.show()"
   ]
  },
  {
   "cell_type": "code",
   "execution_count": 10,
   "metadata": {},
   "outputs": [],
   "source": [
    "iWalls = mesh.specialSets[\"MinI_VertexSet\"] + mesh.specialSets[\"MaxI_VertexSet\"]\n",
    "jWalls = mesh.specialSets[\"MinJ_VertexSet\"] + mesh.specialSets[\"MaxJ_VertexSet\"]\n",
    "botWalls   = mesh.specialSets[\"MinJ_VertexSet\"]\n",
    "topWalls   = mesh.specialSets[\"MaxJ_VertexSet\"]\n",
    "leftWalls  = mesh.specialSets[\"MinI_VertexSet\"]  \n",
    "rightWalls = mesh.specialSets[\"MaxI_VertexSet\"]"
   ]
  },
  {
   "cell_type": "code",
   "execution_count": 11,
   "metadata": {},
   "outputs": [],
   "source": [
    "#  Boundary conditions\n",
    "\n",
    "# balance the velocity of the rock part \n",
    "v_interface1 = nd(-80* u.kilometer)\n",
    "velocity1 = 7.5 *u.cm/u.year\n",
    "v_ratio = 4/15 # 80/(380-80)\n",
    "for index in leftWalls:\n",
    "    if mesh.data[index][1] > 0.:\n",
    "        velocityField.data[index] = [nd(velocity1),0.]\n",
    "    elif mesh.data[index][1] > v_interface1:\n",
    "        velocityField.data[index] = [nd(velocity1),0.]\n",
    "    #elif mesh.data[index][1] >= v_interface2:\n",
    "    #    velocityField.data[index] = [0.,0.]\n",
    "    else:\n",
    "        velocityField.data[index] = [nd(-velocity1)*v_ratio,0.]\n",
    "for index in rightWalls:\n",
    "    if mesh.data[index][1] > 0.:\n",
    "        velocityField.data[index] = [nd(-velocity1),0.]\n",
    "    elif mesh.data[index][1] > v_interface1:\n",
    "        velocityField.data[index] = [nd(-velocity1),0.]\n",
    "    #elif mesh.data[index][1] >= v_interface2:\n",
    "    #    velocityField.data[index] = [0.,0.]\n",
    "    else:\n",
    "        velocityField.data[index] = [nd(velocity1)*v_ratio,0.]\n",
    "        \n",
    "Dir_BC = uw.conditions.DirichletCondition( variable = velocityField, \n",
    "                                            indexSetsPerDof = (iWalls,iWalls+botWalls))"
   ]
  },
  {
   "cell_type": "code",
   "execution_count": 30,
   "metadata": {},
   "outputs": [
    {
     "data": {
      "text/html": [
       "-0.025974025974025976 centimeter/year"
      ],
      "text/latex": [
       "$-0.025974025974025976\\ \\frac{\\mathrm{centimeter}}{\\mathrm{year}}$"
      ],
      "text/plain": [
       "-0.025974025974025976 <Unit('centimeter / year')>"
      ]
     },
     "execution_count": 30,
     "metadata": {},
     "output_type": "execute_result"
    }
   ],
   "source": [
    "index_rock_leftwalls = np.where((mesh.data[leftWalls])[:,1]<0.)\n",
    "dimensionalise(np.mean(velocityField[0].evaluate(mesh.data[index_rock_leftwalls])),u.centimeter/u.year)"
   ]
  },
  {
   "cell_type": "code",
   "execution_count": 31,
   "metadata": {},
   "outputs": [
    {
     "data": {
      "text/html": [
       "<img src='data:image/png;base64,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'>"
      ],
      "text/plain": [
       "<IPython.core.display.HTML object>"
      ]
     },
     "metadata": {},
     "output_type": "display_data"
    }
   ],
   "source": [
    "fig1 = vis.Figure( figsize=figsize,quality=3,clipmap=False, xmin=minbox[0], xmax=maxbox[0], ymin=minbox[1], ymax=maxbox[1],\n",
    "                        boundingBox=(minbox,maxbox),margin = 100, rulers = True, rulerticks=5)\n",
    "fig1.Points(swarm,velocityField[0],pointSize=5,discrete=False,opacity=0.5,colourBar = True)#colours=\"jet\" ,\n",
    "#fig1.VectorArrows(mesh,velocityField) #,scaling=2e-1) \n",
    "fig1.save(outputPath+'V_bc.png') \n",
    "fig1.show()"
   ]
  },
  {
   "cell_type": "code",
   "execution_count": 32,
   "metadata": {},
   "outputs": [],
   "source": [
    "stokes = uw.systems.Stokes( velocityField = velocityField, \n",
    "                               pressureField = pressureField,\n",
    "                               conditions    = Dir_BC,\n",
    "                               fn_viscosity  = viscFn, \n",
    "                               fn_bodyforce  = forceFn) # )\n",
    "                               #fn_one_on_lambda = lambdaFn) \n",
    "solver = uw.systems.Solver(stokes)\n",
    "advector = uw.systems.SwarmAdvector( swarm=swarm, velocityField=velocityField, order=2 )\n",
    "\n",
    "# surfaceArea = uw.utils.Integral(fn=1.0,mesh=mesh, integrationType='surface', surfaceIndexSet=topWalls)\n",
    "# surfacePressureIntegral = uw.utils.Integral(fn=pressureField, mesh=mesh, integrationType='surface', surfaceIndexSet=topWalls)\n",
    "# def pressure_calibrate():\n",
    "#     (area,) = surfaceArea.evaluate()\n",
    "#     (p0,) = surfacePressureIntegral.evaluate()\n",
    "#     offset = p0/area\n",
    "#     pressureField.data[:] -= offset\n",
    "# def traction_calibrate():\n",
    "#     (area,) = surfaceArea.evaluate()\n",
    "#     (p0,) = surfacePressureIntegral.evaluate()\n",
    "#     offset = p0/area\n",
    "#     return offset,p0"
   ]
  },
  {
   "cell_type": "code",
   "execution_count": 33,
   "metadata": {},
   "outputs": [],
   "source": [
    "solver.set_inner_method(\"mumps\")\n",
    "#solver.set_inner_method(\"mg\")\n",
    "#solver.set_penalty(1e6)"
   ]
  },
  {
   "cell_type": "code",
   "execution_count": 34,
   "metadata": {},
   "outputs": [],
   "source": [
    "from scipy.interpolate import interp1d\n",
    "import underworld as uw\n",
    "from mpi4py import MPI as _MPI\n",
    "\n",
    "comm = _MPI.COMM_WORLD\n",
    "rank = comm.rank\n",
    "size = comm.size\n",
    "\n",
    "class FreeSurfaceProcessor(object):\n",
    "    \"\"\"FreeSurfaceProcessor\"\"\"\n",
    "\n",
    "    def __init__(self):\n",
    "        \"\"\"Create a Freesurface processor\n",
    "\n",
    "\n",
    "        \"\"\"\n",
    "\n",
    "        # Create the tools\n",
    "        self.TField = mesh.add_variable(nodeDofCount=1)\n",
    "        self.TField.data[:, 0] = mesh.data[:, 1]\n",
    "\n",
    "        self.top = mesh.specialSets[\"Top_VertexSet\"]\n",
    "        self.bottom = mesh.specialSets[\"Bottom_VertexSet\"]\n",
    "\n",
    "        # Create boundary condition\n",
    "        self._conditions = uw.conditions.DirichletCondition(\n",
    "            variable=self.TField,\n",
    "            indexSetsPerDof=(self.top + self.bottom,))\n",
    "\n",
    "        # Create Eq System\n",
    "        self._system = uw.systems.SteadyStateHeat(\n",
    "            temperatureField=self.TField,\n",
    "            fn_diffusivity=1.0,\n",
    "            conditions=self._conditions)\n",
    "\n",
    "        self._solver = uw.systems.Solver(self._system)\n",
    "\n",
    "    def _solve_sle(self):\n",
    "        self._solver.solve()\n",
    "\n",
    "    def _advect_surface(self, dt):\n",
    "\n",
    "        if self.top:\n",
    "            # Extract top surface\n",
    "            x =  mesh.data[self.top.data][:, 0]\n",
    "            y =  mesh.data[self.top.data][:, 1]\n",
    "\n",
    "            # Extract velocities from top\n",
    "            vx = velocityField.data[self.top.data][:, 0]\n",
    "            vy = velocityField.data[self.top.data][:, 1]\n",
    "\n",
    "            # Advect top surface\n",
    "            x2 = x + vx * nd(dt)\n",
    "            y2 = y + vy * nd(dt)\n",
    "\n",
    "            # Spline top surface\n",
    "            f = interp1d(x2, y2, kind='cubic', fill_value='extrapolate')\n",
    "\n",
    "            self.TField.data[self.top.data, 0] = f(x)\n",
    "        comm.Barrier()\n",
    "        self.TField.syncronise()\n",
    "\n",
    "    def _update_mesh(self):\n",
    "\n",
    "        with  mesh.deform_mesh():\n",
    "            # Last dimension is the vertical dimension\n",
    "             mesh.data[:, -1] = self.TField.data[:, 0]\n",
    "\n",
    "    def solve(self, dtime):\n",
    "        \"\"\" Advect free surface through dt and update the mesh \"\"\"\n",
    "\n",
    "        # First we advect the surface\n",
    "        self._advect_surface(dtime)\n",
    "        # Then we solve the system of linear equation\n",
    "        self._solve_sle()\n",
    "        # Finally we update the mesh\n",
    "        self._update_mesh()"
   ]
  },
  {
   "cell_type": "code",
   "execution_count": 35,
   "metadata": {},
   "outputs": [],
   "source": [
    "surfaceArea = uw.utils.Integral(fn=1.0,mesh=mesh, integrationType='surface', surfaceIndexSet=topWalls)\n",
    "surfacePressureIntegral = uw.utils.Integral(fn=pressureField, mesh=mesh, integrationType='surface', surfaceIndexSet=topWalls)\n",
    "\n",
    "\n",
    "def pressure_calibrate():\n",
    "    \n",
    "    (area,) = surfaceArea.evaluate()\n",
    "    (p0,) = surfacePressureIntegral.evaluate()\n",
    "    offset = p0/area\n",
    "    pressureField.data[:] -= offset"
   ]
  },
  {
   "cell_type": "code",
   "execution_count": 36,
   "metadata": {},
   "outputs": [
    {
     "name": "stdout",
     "output_type": "stream",
     "text": [
      "steps, timestep\n",
      "0, 1.626e+01 kiloyear\n",
      "1, 1.626e+01 kiloyear\n",
      "2, 1.626e+01 kiloyear\n",
      "3, 1.626e+01 kiloyear\n",
      "4, 1.626e+01 kiloyear\n",
      "5, 1.626e+01 kiloyear\n",
      "6, 1.626e+01 kiloyear\n"
     ]
    },
    {
     "ename": "RuntimeError",
     "evalue": "Error encountered. Full restart recommended as exception safety not guaranteed. Error message:\nSomething went wrong in _PCDVC_Calculate2D: Problem has an under resolved cell (Cell Id = 12265).\nYou may need to check your initial particle layout configuration. A per cell layout might give better results than a global layout, especially where you have a deformed mesh. Also, if particles are allowed to escape the domain, you will need to set the 'particleEscape=True' swarm constructor parameter, and likely also the 'aggressive=True' population control constructed parameter.",
     "output_type": "error",
     "traceback": [
      "\u001b[0;31m---------------------------------------------------------------------------\u001b[0m",
      "\u001b[0;31mRuntimeError\u001b[0m                              Traceback (most recent call last)",
      "\u001b[0;32m<ipython-input-36-2f233cceecc2>\u001b[0m in \u001b[0;36m<module>\u001b[0;34m\u001b[0m\n\u001b[1;32m     34\u001b[0m \u001b[0;34m\u001b[0m\u001b[0m\n\u001b[1;32m     35\u001b[0m     \u001b[0;31m# population control\u001b[0m\u001b[0;34m\u001b[0m\u001b[0;34m\u001b[0m\u001b[0;34m\u001b[0m\u001b[0m\n\u001b[0;32m---> 36\u001b[0;31m     \u001b[0mpop_control\u001b[0m\u001b[0;34m.\u001b[0m\u001b[0mrepopulate\u001b[0m\u001b[0;34m(\u001b[0m\u001b[0;34m)\u001b[0m\u001b[0;34m\u001b[0m\u001b[0;34m\u001b[0m\u001b[0m\n\u001b[0m\u001b[1;32m     37\u001b[0m     \u001b[0mfig0\u001b[0m\u001b[0;34m.\u001b[0m\u001b[0msave\u001b[0m\u001b[0;34m(\u001b[0m\u001b[0moutputPath\u001b[0m\u001b[0;34m+\u001b[0m\u001b[0;34m\"Uplift-\"\u001b[0m\u001b[0;34m+\u001b[0m\u001b[0mstr\u001b[0m\u001b[0;34m(\u001b[0m\u001b[0msteps\u001b[0m\u001b[0;34m)\u001b[0m\u001b[0;34m+\u001b[0m\u001b[0;34m\".png\"\u001b[0m\u001b[0;34m)\u001b[0m\u001b[0;34m\u001b[0m\u001b[0;34m\u001b[0m\u001b[0m\n\u001b[1;32m     38\u001b[0m \u001b[0;34m\u001b[0m\u001b[0m\n",
      "\u001b[0;32m/opt/venv/lib/python3.7/site-packages/underworld/swarm/_population_control.py\u001b[0m in \u001b[0;36mrepopulate\u001b[0;34m(self)\u001b[0m\n\u001b[1;32m     91\u001b[0m         \u001b[0mThis\u001b[0m \u001b[0mmethod\u001b[0m \u001b[0mrepopulates\u001b[0m \u001b[0mthe\u001b[0m \u001b[0mswarm\u001b[0m\u001b[0;34m.\u001b[0m\u001b[0;34m\u001b[0m\u001b[0;34m\u001b[0m\u001b[0m\n\u001b[1;32m     92\u001b[0m         \"\"\"\n\u001b[0;32m---> 93\u001b[0;31m         \u001b[0mself\u001b[0m\u001b[0;34m.\u001b[0m\u001b[0m_swarm\u001b[0m\u001b[0;34m.\u001b[0m\u001b[0m_voronoi_swarm\u001b[0m\u001b[0;34m.\u001b[0m\u001b[0mrepopulate\u001b[0m\u001b[0;34m(\u001b[0m\u001b[0mweights_calculator\u001b[0m\u001b[0;34m=\u001b[0m\u001b[0mself\u001b[0m\u001b[0;34m.\u001b[0m\u001b[0m_weights\u001b[0m\u001b[0;34m)\u001b[0m\u001b[0;34m\u001b[0m\u001b[0;34m\u001b[0m\u001b[0m\n\u001b[0m\u001b[1;32m     94\u001b[0m         \u001b[0;31m# repopulation potentially adds/removes particles... so we need to increment\u001b[0m\u001b[0;34m\u001b[0m\u001b[0;34m\u001b[0m\u001b[0;34m\u001b[0m\u001b[0m\n\u001b[1;32m     95\u001b[0m         \u001b[0;31m# the swarm id.  note that this should occur *after* the repopulate call\u001b[0m\u001b[0;34m\u001b[0m\u001b[0;34m\u001b[0m\u001b[0;34m\u001b[0m\u001b[0m\n",
      "\u001b[0;32m/opt/venv/lib/python3.7/site-packages/underworld/swarm/_integration_swarm.py\u001b[0m in \u001b[0;36mrepopulate\u001b[0;34m(self, weights_calculator)\u001b[0m\n\u001b[1;32m    139\u001b[0m         \u001b[0;31m# if weights calculator is PCDVC, then we need to always run as it potentially performs population control\u001b[0m\u001b[0;34m\u001b[0m\u001b[0;34m\u001b[0m\u001b[0;34m\u001b[0m\u001b[0m\n\u001b[1;32m    140\u001b[0m         \u001b[0;32mif\u001b[0m \u001b[0;34m(\u001b[0m\u001b[0mself\u001b[0m\u001b[0;34m.\u001b[0m\u001b[0m_mappedToState\u001b[0m \u001b[0;34m!=\u001b[0m \u001b[0mself\u001b[0m\u001b[0;34m.\u001b[0m\u001b[0m_mappedSwarm\u001b[0m\u001b[0;34m(\u001b[0m\u001b[0;34m)\u001b[0m\u001b[0;34m.\u001b[0m\u001b[0mstateId\u001b[0m\u001b[0;34m)\u001b[0m \u001b[0;32mor\u001b[0m \u001b[0misinstance\u001b[0m\u001b[0;34m(\u001b[0m\u001b[0mweights_calculator\u001b[0m\u001b[0;34m,\u001b[0m\u001b[0muw\u001b[0m\u001b[0;34m.\u001b[0m\u001b[0mswarm\u001b[0m\u001b[0;34m.\u001b[0m\u001b[0m_weights\u001b[0m\u001b[0;34m.\u001b[0m\u001b[0mPCDVC\u001b[0m\u001b[0;34m)\u001b[0m\u001b[0;34m:\u001b[0m\u001b[0;34m\u001b[0m\u001b[0;34m\u001b[0m\u001b[0m\n\u001b[0;32m--> 141\u001b[0;31m             \u001b[0mlibUnderworld\u001b[0m\u001b[0;34m.\u001b[0m\u001b[0mPICellerator\u001b[0m\u001b[0;34m.\u001b[0m\u001b[0mWeightsCalculator_CalculateAll\u001b[0m\u001b[0;34m(\u001b[0m \u001b[0mweights_calculator\u001b[0m\u001b[0;34m.\u001b[0m\u001b[0m_cself\u001b[0m\u001b[0;34m,\u001b[0m \u001b[0mself\u001b[0m\u001b[0;34m.\u001b[0m\u001b[0m_cself\u001b[0m \u001b[0;34m)\u001b[0m\u001b[0;34m\u001b[0m\u001b[0;34m\u001b[0m\u001b[0m\n\u001b[0m\u001b[1;32m    142\u001b[0m             \u001b[0mlibUnderworld\u001b[0m\u001b[0;34m.\u001b[0m\u001b[0mPICellerator\u001b[0m\u001b[0;34m.\u001b[0m\u001b[0mIntegrationPointsSwarm_ClearSwarmMaps\u001b[0m\u001b[0;34m(\u001b[0m \u001b[0mself\u001b[0m\u001b[0;34m.\u001b[0m\u001b[0m_cself\u001b[0m \u001b[0;34m)\u001b[0m\u001b[0;34m\u001b[0m\u001b[0;34m\u001b[0m\u001b[0m\n\u001b[1;32m    143\u001b[0m \u001b[0;34m\u001b[0m\u001b[0m\n",
      "\u001b[0;31mRuntimeError\u001b[0m: Error encountered. Full restart recommended as exception safety not guaranteed. Error message:\nSomething went wrong in _PCDVC_Calculate2D: Problem has an under resolved cell (Cell Id = 12265).\nYou may need to check your initial particle layout configuration. A per cell layout might give better results than a global layout, especially where you have a deformed mesh. Also, if particles are allowed to escape the domain, you will need to set the 'particleEscape=True' swarm constructor parameter, and likely also the 'aggressive=True' population control constructed parameter."
     ]
    }
   ],
   "source": [
    "# record output\n",
    "outfile = open(outputPath+'buildMount.txt', 'w+')\n",
    "string = \"steps, timestep\"\n",
    "if uw.mpi.rank==0:\n",
    "    print(string)\n",
    "    outfile.write( string+\"\\n\")\n",
    "\n",
    "# initialise loop\n",
    "dt    = -1.\n",
    "model_end_step  = 50\n",
    "steps = 0\n",
    "\n",
    "\n",
    "while steps<model_end_step:\n",
    "    # Get solution\n",
    "    #solver.solve( nonLinearIterate=True,  nonLinearTolerance=1e-5, nonLinearMaxIterations=25)\n",
    "    solver.solve( nonLinearIterate=True,  nonLinearTolerance=1e-5, nonLinearMaxIterations=25,callback_post_solve = pressure_calibrate)\n",
    "    # get time step first time around\n",
    "    if dt < 0:\n",
    "        dt = 0.5*advector.get_max_dt()\n",
    "        #dt = nd(2*u.kiloyear)\n",
    "    # Advect particles   \n",
    "    advector.integrate(dt)  \n",
    "\n",
    "    string = \"{}, {:.3e}\".format(steps,dimensionalise(dt, u.kiloyear))\n",
    "    if uw.mpi.rank == 0:\n",
    "        print(string)\n",
    "        outfile.write(string+\"\\n\")\n",
    "    \n",
    "        \n",
    "    if freesurf_bc:\n",
    "        freesuface =  FreeSurfaceProcessor()\n",
    "        freesuface.solve(dt)\n",
    "\n",
    "    # population control\n",
    "    pop_control.repopulate()\n",
    "    fig0.save(outputPath+\"Uplift-\"+str(steps)+\".png\")\n",
    "\n",
    "# #     offset,p0 = traction_calibrate()\n",
    "#     Tpressure = cal_lithop(mesh,densityFn,gravity)\n",
    "#     for index,coord in enumerate (botWalls.data):\n",
    "#         tractionField.data[coord]= (0,Tpressure[0,index])\n",
    "        \n",
    "# #     Tpressure = cal_lithop(mesh,densityFn,gravity)\n",
    "# #     tractionField.data[:,1] = Tpressure.flatten() \n",
    "\n",
    "#     fig, ax = plt.subplots(1, 1, figsize=(8,6))\n",
    "#     ax.set_xlabel('X coordinate (km)')\n",
    "#     ax.set_ylabel('Bottom pressure (megapascal)')\n",
    "#     ax.plot(xcoord,dimensionalise(Tpressure[0,:], u.megapascal),'o', color = 'blue',label = 'mesh nodes evaluate')\n",
    "#     plt.legend()\n",
    "#     plt.savefig(outputPath+\"Evaluated base pressure\"+str(steps)+\".png\")\n",
    "    \n",
    "    steps += 1\n",
    "outfile.close()"
   ]
  },
  {
   "cell_type": "code",
   "execution_count": null,
   "metadata": {},
   "outputs": [],
   "source": [
    "fig0.show()"
   ]
  },
  {
   "cell_type": "code",
   "execution_count": null,
   "metadata": {},
   "outputs": [],
   "source": [
    "stress = strainRate_2ndInvariant*viscosityField"
   ]
  },
  {
   "cell_type": "code",
   "execution_count": null,
   "metadata": {},
   "outputs": [],
   "source": [
    "fig2 = vis.Figure( figsize=figsize,quality=3,clipmap=False, xmin=minbox[0], xmax=maxbox[0], ymin=minbox[1], ymax=maxbox[1],\n",
    "                        boundingBox=(minbox,maxbox),margin = 100, rulers = True, rulerticks=5)\n",
    "fig2.Points(swarm,stress,pointSize=5,discrete=False,opacity=0.5,colourBar = True)#colours=\"jet\" ,\n",
    "#fig2.VectorArrows(mesh,velocityField) #,scaling=2e-1) \n",
    "fig2.save(outputPath+'stress.png') \n",
    "fig2.show()"
   ]
  },
  {
   "cell_type": "code",
   "execution_count": null,
   "metadata": {},
   "outputs": [],
   "source": [
    "stress1 = dimensionalise(stress.evaluate(mesh),u.pascal)"
   ]
  },
  {
   "cell_type": "code",
   "execution_count": null,
   "metadata": {},
   "outputs": [],
   "source": [
    "stress1.max()"
   ]
  },
  {
   "cell_type": "code",
   "execution_count": null,
   "metadata": {},
   "outputs": [],
   "source": []
  }
 ],
 "metadata": {
  "kernelspec": {
   "display_name": "Python 3",
   "language": "python",
   "name": "python3"
  },
  "language_info": {
   "codemirror_mode": {
    "name": "ipython",
    "version": 3
   },
   "file_extension": ".py",
   "mimetype": "text/x-python",
   "name": "python",
   "nbconvert_exporter": "python",
   "pygments_lexer": "ipython3",
   "version": "3.7.3"
  }
 },
 "nbformat": 4,
 "nbformat_minor": 4
}
