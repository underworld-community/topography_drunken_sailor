{
 "cells": [
  {
   "cell_type": "markdown",
   "metadata": {},
   "source": [
    "The sticky air method is a good way to simulate a free surface for Eulerian approaches, provided that its parameters are chosen carefully ($C\\ll1$).\n",
    "\n",
    "2.1.1 Isostatic timescale\n",
    "\n",
    "$C_{isost}= \\frac{3}{16\\pi^{3}}(\\frac{L}{h_{st}})^{3}\\frac{\\eta_{st}}{\\eta_{ch}}$\n",
    "\n",
    "\n",
    "2.1.2 Stokes timescale\n",
    "\n",
    "$C_{Stokes}= \\frac{1}{16}\\frac{\\Delta \\rho }{\\rho }(\\frac{h_{model}}{h_{st}})^{3}\\frac{\\eta_{st}}{\\eta_{ch}}$\n",
    "\n",
    "\n",
    "This is the case2 in the reference, like fig.7 and fig.5\n",
    "\n",
    "### Reference\n",
    "\n",
    "- Crameri, F., Schmeling, H., Golabek, G. J., Duretz, T., Orendt, R., Buiter, S. J. H., ... & Tackley, P. J. (2012). A comparison of numerical surface topography calculations in geodynamic modelling: an evaluation of the ‘sticky air’method. Geophysical Journal International, 189(1), 38-54."
   ]
  },
  {
   "cell_type": "code",
   "execution_count": 1,
   "metadata": {},
   "outputs": [
    {
     "name": "stdout",
     "output_type": "stream",
     "text": [
      "loaded rc file /opt/venv/lib/python3.7/site-packages/UWGeodynamics/uwgeo-data/uwgeodynamicsrc\n"
     ]
    },
    {
     "data": {
      "text/plain": [
       "'2.10.1-dev-164585a(master)'"
      ]
     },
     "execution_count": 1,
     "metadata": {},
     "output_type": "execute_result"
    }
   ],
   "source": [
    "import UWGeodynamics as GEO\n",
    "from UWGeodynamics import visualisation as vis\n",
    "from underworld import function as fn\n",
    "import numpy as np\n",
    "u = GEO.UnitRegistry\n",
    "GEO.__version__"
   ]
  },
  {
   "cell_type": "code",
   "execution_count": 2,
   "metadata": {},
   "outputs": [],
   "source": [
    "Res_mesh = (560,340)\n",
    "Res_real = [(0.,2800.),(-700,150.)] # Unit: km \n",
    "\n",
    "H_air = 150.* u.kilometer\n",
    "D_LAB = -100.* u.kilometer\n",
    "D_ma  = -700. * u.kilometer\n",
    "D_plume = 100. * u.kilometer\n",
    "\n",
    "dt = 0.005*u.megayears\n",
    "fdir_output = \"OPC2012_uwg_airdensity_rm_5k\" \n",
    "\n",
    "# dt = 0.02*u.megayears\n",
    "# fdir_output = \"OPC2012_uwg_airdensity_rm_20k\" "
   ]
  },
  {
   "cell_type": "code",
   "execution_count": 4,
   "metadata": {},
   "outputs": [],
   "source": [
    "# Scaling\n",
    "ref_viscosity = 1.0e21 * u.pascal * u.second\n",
    "ref_density  = 3300. * u.kilogram / u.meter**3\n",
    "ref_length = 850. * u.kilometer #  modprop.boxHeight\n",
    "\n",
    "KL = ref_length\n",
    "KM = ref_density * KL**3\n",
    "KT = 1.0 / (ref_viscosity / KM * KL)\n",
    "\n",
    "GEO.scaling_coefficients[\"[time]\"] = KT\n",
    "GEO.scaling_coefficients[\"[length]\"] = KL\n",
    "GEO.scaling_coefficients[\"[mass]\"] = KM\n",
    "\n",
    "# Model mesh\n",
    "Model = GEO.Model(elementRes=Res_mesh,\n",
    "                  minCoord=(Res_real[0][0] * u.kilometer, Res_real[1][0] * u.kilometer),  \n",
    "                  maxCoord=(Res_real[0][1] * u.kilometer, Res_real[1][1] * u.kilometer),\n",
    "                  gravity=(0.0, -10. * u.meter / u.second**2))\n",
    "\n",
    "Model.outputDir=fdir_output"
   ]
  },
  {
   "cell_type": "code",
   "execution_count": 5,
   "metadata": {},
   "outputs": [
    {
     "data": {
      "text/html": [
       "<table><tr><td>[mass]</td><td>2.0266125e+21 kilogram</td></tr><tr><td>[length]</td><td>850000.0 meter</td></tr><tr><td>[temperature]</td><td>1.0 kelvin</td></tr><tr><td>[time]</td><td>2.3842499999999997e-06 second</td></tr><tr><td>[substance]</td><td>1.0 mole</td></tr></table>"
      ],
      "text/plain": [
       "{'[length]': 850000.0 <Unit('meter')>,\n",
       " '[mass]': 2.0266125e+21 <Unit('kilogram')>,\n",
       " '[time]': 2.3842499999999997e-06 <Unit('second')>,\n",
       " '[temperature]': 1.0 <Unit('kelvin')>,\n",
       " '[substance]': 1.0 <Unit('mole')>}"
      ]
     },
     "execution_count": 5,
     "metadata": {},
     "output_type": "execute_result"
    }
   ],
   "source": [
    "GEO.scaling_coefficients"
   ]
  },
  {
   "cell_type": "code",
   "execution_count": null,
   "metadata": {},
   "outputs": [],
   "source": [
    "GEO.nd(ref_density),GEO.nd(ref_viscosity),GEO.nd(ref_length)"
   ]
  },
  {
   "cell_type": "code",
   "execution_count": 6,
   "metadata": {},
   "outputs": [],
   "source": [
    "model_mid  = (Model.maxCoord[0]-Model.minCoord[0])/2\n",
    "\n",
    "center_x = model_mid\n",
    "center_y = D_ma + 300 * u.kilometer\n",
    "R_plume = 50 * u.kilometer\n",
    "\n",
    "air_Shape =  GEO.shapes.Layer2D(top=Model.top, bottom=0.*u.kilometer)\n",
    "li_Shape = GEO.shapes.Layer2D(top=air_Shape.bottom,bottom=D_LAB)\n",
    "ma_Shape = GEO.shapes.Layer2D(top=li_Shape.bottom, bottom=D_ma)\n",
    "mp_Shape = GEO.shapes.Disk(center=(center_x , center_y),radius=R_plume)"
   ]
  },
  {
   "cell_type": "code",
   "execution_count": 7,
   "metadata": {},
   "outputs": [],
   "source": [
    "air = Model.add_material(name=\"Stick Air\", shape=air_Shape)\n",
    "li  = Model.add_material(name=\"Lithosphere\", shape=li_Shape)\n",
    "ma  = Model.add_material(name=\"Mantle Asthenosphere\", shape=ma_Shape)\n",
    "mp  = Model.add_material(name=\"Mantle Plume\", shape=mp_Shape)"
   ]
  },
  {
   "cell_type": "code",
   "execution_count": 8,
   "metadata": {},
   "outputs": [],
   "source": [
    "npoints = 5000\n",
    "coords = np.ndarray((npoints, 2))\n",
    "coords[:, 0] = np.linspace(GEO.nd(Model.minCoord[0]), GEO.nd(Model.maxCoord[0]), npoints)\n",
    "coords[:, 1] = GEO.nd(0.* u.kilometre)\n",
    "surf_tracers = Model.add_passive_tracers(name=\"Surface\",vertices=coords)\n",
    "\n",
    "# coords = np.ndarray((npoints, 2))\n",
    "# coords[:, 0] = np.linspace(GEO.nd(Model.minCoord[0]), GEO.nd(Model.maxCoord[0]), npoints)\n",
    "# coords[:, 1] = GEO.nd(-H_moho)\n",
    "# moho_tracers = Model.add_passive_tracers(name=\"Moho\",vertices=coords)"
   ]
  },
  {
   "cell_type": "code",
   "execution_count": 9,
   "metadata": {},
   "outputs": [],
   "source": [
    "Fig = vis.Figure(figsize=(1200,400),title=\"Material Field\")\n",
    "Fig.Points(surf_tracers, pointSize=4.0)\n",
    "Fig.Points(Model.swarm, Model.materialField,fn_size=2.0,discrete=True)\n",
    "Fig.save(\"F_Material Field.png\")\n",
    "Fig.show()"
   ]
  },
  {
   "cell_type": "code",
   "execution_count": 10,
   "metadata": {},
   "outputs": [],
   "source": [
    "# density\n",
    "air.density = -3300. * u.kilogram / u.metre**3\n",
    "li.density = 0. * u.kilogram / u.metre**3 \n",
    "ma.density = 0. * u.kilogram / u.metre**3\n",
    "mp.density = -100. * u.kilogram / u.metre**3"
   ]
  },
  {
   "cell_type": "code",
   "execution_count": 11,
   "metadata": {},
   "outputs": [],
   "source": [
    "# Viscosity\n",
    "Model.minViscosity = 1e19 * u.pascal * u.second\n",
    "Model.maxViscosity = 1e23 * u.pascal * u.second\n",
    "\n",
    "\n",
    "air.viscosity  =  1e19 * u.pascal * u.second  \n",
    "li.viscosity  =  1e23 * u.pascal * u.second                             \n",
    "ma.viscosity  =  1e21 * u.pascal * u.second\n",
    "mp.viscosity  =  1e20 * u.pascal * u.second"
   ]
  },
  {
   "cell_type": "code",
   "execution_count": 12,
   "metadata": {},
   "outputs": [
    {
     "data": {
      "text/plain": [
       "<underworld.conditions._conditions.DirichletCondition at 0x7f8399158cf8>"
      ]
     },
     "execution_count": 12,
     "metadata": {},
     "output_type": "execute_result"
    }
   ],
   "source": [
    "# Boundary conditions\n",
    "Model.set_velocityBCs(left=[0., None],\n",
    "                      right=[0., None],\n",
    "                      bottom=[0.,0.],\n",
    "                      top = [None,0.])"
   ]
  },
  {
   "cell_type": "code",
   "execution_count": 13,
   "metadata": {},
   "outputs": [],
   "source": [
    "Model.solver.set_inner_method(\"mumps\")\n",
    "Model.solver.set_penalty(1e6)\n",
    "\n",
    "GEO.rcParams[\"initial.nonlinear.max.iterations\"] = 50\n",
    "GEO.rcParams[\"nonlinear.max.iterations\"] = 25\n",
    "GEO.rcParams[\"initial.nonlinear.tolerance\"]= 1e-4\n",
    "GEO.rcParams[\"nonlinear.tolerance\"]= 1e-3 \n",
    "\n",
    "GEO.rcParams['swarm.particles.per.cell.2D'] = 36"
   ]
  },
  {
   "cell_type": "code",
   "execution_count": 14,
   "metadata": {},
   "outputs": [],
   "source": [
    "Model.init_model(temperature=False, pressureField=True)"
   ]
  },
  {
   "cell_type": "code",
   "execution_count": 15,
   "metadata": {
    "scrolled": true
   },
   "outputs": [
    {
     "name": "stdout",
     "output_type": "stream",
     "text": [
      "Running with UWGeodynamics version 2.10.1-dev-164585a(master)\n",
      "Options:  -Q22_pc_type gkgdiag -force_correction True -ksp_type bsscr -pc_type none -ksp_k2_type NULL -rescale_equations False -remove_constant_pressure_null_space False -change_backsolve False -change_A11rhspresolve False -restore_K False -A11_ksp_type preonly -A11_pc_type lu -A11_pc_factor_mat_solver_type mumps -scr_ksp_type fgmres -scr_ksp_rtol 1e-05 -A11_mg_active False\n",
      "Step:     1 Model Time: 20000.0 year dt: 20000.0 year (2020-12-02 11:55:29)\n",
      "Step:     2 Model Time: 40000.0 year dt: 20000.0 year (2020-12-02 11:55:58)\n",
      "Step:     3 Model Time: 60000.0 year dt: 20000.0 year (2020-12-02 11:56:31)\n",
      "Step:     4 Model Time: 80000.0 year dt: 20000.0 year (2020-12-02 11:57:01)\n",
      "Step:     5 Model Time: 100000.0 year dt: 20000.0 year (2020-12-02 11:57:34)\n",
      "Step:     6 Model Time: 120000.0 year dt: 20000.0 year (2020-12-02 11:58:03)\n",
      "Step:     7 Model Time: 140000.0 year dt: 20000.0 year (2020-12-02 11:58:36)\n",
      "Step:     8 Model Time: 160000.0 year dt: 20000.0 year (2020-12-02 11:59:06)\n",
      "Step:     9 Model Time: 180000.0 year dt: 20000.0 year (2020-12-02 11:59:38)\n",
      "Step:    10 Model Time: 200000.0 year dt: 20000.0 year (2020-12-02 12:00:09)\n",
      "Step:    11 Model Time: 220000.0 year dt: 20000.0 year (2020-12-02 12:00:38)\n",
      "Step:    12 Model Time: 240000.0 year dt: 20000.0 year (2020-12-02 12:01:12)\n",
      "Step:    13 Model Time: 260000.0 year dt: 20000.0 year (2020-12-02 12:01:42)\n",
      "Step:    14 Model Time: 280000.0 year dt: 20000.0 year (2020-12-02 12:02:13)\n",
      "Step:    15 Model Time: 300000.0 year dt: 20000.0 year (2020-12-02 12:02:43)\n",
      "Step:    16 Model Time: 320000.0 year dt: 20000.0 year (2020-12-02 12:03:14)\n",
      "Step:    17 Model Time: 340000.0 year dt: 20000.0 year (2020-12-02 12:03:43)\n",
      "Step:    18 Model Time: 360000.0 year dt: 20000.0 year (2020-12-02 12:04:13)\n",
      "Step:    19 Model Time: 380000.0 year dt: 20000.0 year (2020-12-02 12:04:42)\n",
      "Step:    20 Model Time: 400000.0 year dt: 20000.0 year (2020-12-02 12:05:10)\n",
      "Step:    21 Model Time: 420000.0 year dt: 20000.0 year (2020-12-02 12:05:39)\n",
      "Step:    22 Model Time: 440000.0 year dt: 20000.0 year (2020-12-02 12:06:07)\n",
      "Step:    23 Model Time: 460000.0 year dt: 20000.0 year (2020-12-02 12:06:35)\n",
      "Step:    24 Model Time: 480000.0 year dt: 20000.0 year (2020-12-02 12:07:04)\n",
      "Step:    25 Model Time: 500000.0 year dt: 20000.0 year (2020-12-02 12:07:31)\n",
      "Step:    26 Model Time: 520000.0 year dt: 20000.0 year (2020-12-02 12:07:59)\n",
      "Step:    27 Model Time: 540000.0 year dt: 20000.0 year (2020-12-02 12:08:28)\n",
      "Step:    28 Model Time: 560000.0 year dt: 20000.0 year (2020-12-02 12:08:57)\n",
      "Step:    29 Model Time: 580000.0 year dt: 20000.0 year (2020-12-02 12:09:28)\n",
      "Step:    30 Model Time: 600000.0 year dt: 20000.0 year (2020-12-02 12:09:56)\n",
      "Step:    31 Model Time: 620000.0 year dt: 20000.0 year (2020-12-02 12:10:24)\n",
      "Step:    32 Model Time: 640000.0 year dt: 20000.0 year (2020-12-02 12:10:53)\n",
      "Step:    33 Model Time: 660000.0 year dt: 20000.0 year (2020-12-02 12:11:22)\n",
      "Step:    34 Model Time: 680000.0 year dt: 20000.0 year (2020-12-02 12:11:50)\n",
      "Step:    35 Model Time: 700000.0 year dt: 20000.0 year (2020-12-02 12:12:18)\n",
      "Step:    36 Model Time: 720000.0 year dt: 20000.0 year (2020-12-02 12:12:46)\n",
      "Step:    37 Model Time: 740000.0 year dt: 20000.0 year (2020-12-02 12:13:14)\n",
      "Step:    38 Model Time: 760000.0 year dt: 20000.0 year (2020-12-02 12:13:43)\n",
      "Step:    39 Model Time: 780000.0 year dt: 20000.0 year (2020-12-02 12:14:13)\n",
      "Step:    40 Model Time: 800000.0 year dt: 20000.0 year (2020-12-02 12:14:45)\n",
      "Step:    41 Model Time: 820000.0 year dt: 20000.0 year (2020-12-02 12:15:15)\n",
      "Step:    42 Model Time: 840000.0 year dt: 20000.0 year (2020-12-02 12:15:45)\n",
      "Step:    43 Model Time: 860000.0 year dt: 20000.0 year (2020-12-02 12:16:15)\n",
      "Step:    44 Model Time: 880000.0 year dt: 20000.0 year (2020-12-02 12:16:45)\n",
      "Step:    45 Model Time: 900000.0 year dt: 20000.0 year (2020-12-02 12:17:14)\n",
      "Step:    46 Model Time: 920000.0 year dt: 20000.0 year (2020-12-02 12:17:46)\n",
      "Step:    47 Model Time: 940000.0 year dt: 20000.0 year (2020-12-02 12:18:16)\n",
      "Step:    48 Model Time: 960000.0 year dt: 20000.0 year (2020-12-02 12:18:47)\n",
      "Step:    49 Model Time: 980000.0 year dt: 20000.0 year (2020-12-02 12:19:17)\n",
      "Step:    50 Model Time: 1.0 megayear dt: 20000.0 year (2020-12-02 12:19:47)\n",
      "Step:    51 Model Time: 1.0 megayear dt: 0.0 second (2020-12-02 12:21:11)\n",
      "Step:    52 Model Time: 1.0 megayear dt: 20000.0 year (2020-12-02 12:21:42)\n",
      "Step:    53 Model Time: 1.0 megayear dt: 20000.0 year (2020-12-02 12:22:11)\n",
      "Step:    54 Model Time: 1.1 megayear dt: 20000.0 year (2020-12-02 12:22:41)\n",
      "Step:    55 Model Time: 1.1 megayear dt: 20000.0 year (2020-12-02 12:23:11)\n",
      "Step:    56 Model Time: 1.1 megayear dt: 20000.0 year (2020-12-02 12:23:42)\n",
      "Step:    57 Model Time: 1.1 megayear dt: 20000.0 year (2020-12-02 12:24:11)\n",
      "Step:    58 Model Time: 1.1 megayear dt: 20000.0 year (2020-12-02 12:24:40)\n",
      "Step:    59 Model Time: 1.2 megayear dt: 20000.0 year (2020-12-02 12:25:15)\n",
      "Step:    60 Model Time: 1.2 megayear dt: 20000.0 year (2020-12-02 12:25:54)\n",
      "Step:    61 Model Time: 1.2 megayear dt: 20000.0 year (2020-12-02 12:26:28)\n",
      "Step:    62 Model Time: 1.2 megayear dt: 20000.0 year (2020-12-02 12:26:59)\n",
      "Step:    63 Model Time: 1.2 megayear dt: 20000.0 year (2020-12-02 12:27:29)\n",
      "Step:    64 Model Time: 1.3 megayear dt: 20000.0 year (2020-12-02 12:27:59)\n",
      "Step:    65 Model Time: 1.3 megayear dt: 20000.0 year (2020-12-02 12:28:29)\n",
      "Step:    66 Model Time: 1.3 megayear dt: 20000.0 year (2020-12-02 12:28:59)\n",
      "Step:    67 Model Time: 1.3 megayear dt: 20000.0 year (2020-12-02 12:29:29)\n",
      "Step:    68 Model Time: 1.3 megayear dt: 20000.0 year (2020-12-02 12:29:59)\n",
      "Step:    69 Model Time: 1.4 megayear dt: 20000.0 year (2020-12-02 12:30:29)\n",
      "Step:    70 Model Time: 1.4 megayear dt: 20000.0 year (2020-12-02 12:31:00)\n",
      "Step:    71 Model Time: 1.4 megayear dt: 20000.0 year (2020-12-02 12:31:30)\n",
      "Step:    72 Model Time: 1.4 megayear dt: 20000.0 year (2020-12-02 12:32:01)\n",
      "Step:    73 Model Time: 1.4 megayear dt: 20000.0 year (2020-12-02 12:32:32)\n",
      "Step:    74 Model Time: 1.5 megayear dt: 20000.0 year (2020-12-02 12:33:03)\n",
      "Step:    75 Model Time: 1.5 megayear dt: 20000.0 year (2020-12-02 12:33:33)\n",
      "Step:    76 Model Time: 1.5 megayear dt: 20000.0 year (2020-12-02 12:34:03)\n",
      "Step:    77 Model Time: 1.5 megayear dt: 20000.0 year (2020-12-02 12:34:34)\n",
      "Step:    78 Model Time: 1.5 megayear dt: 20000.0 year (2020-12-02 12:35:04)\n",
      "Step:    79 Model Time: 1.6 megayear dt: 20000.0 year (2020-12-02 12:35:35)\n",
      "Step:    80 Model Time: 1.6 megayear dt: 20000.0 year (2020-12-02 12:36:06)\n",
      "Step:    81 Model Time: 1.6 megayear dt: 20000.0 year (2020-12-02 12:36:36)\n",
      "Step:    82 Model Time: 1.6 megayear dt: 20000.0 year (2020-12-02 12:37:06)\n",
      "Step:    83 Model Time: 1.6 megayear dt: 20000.0 year (2020-12-02 12:37:35)\n",
      "Step:    84 Model Time: 1.7 megayear dt: 20000.0 year (2020-12-02 12:38:05)\n",
      "Step:    85 Model Time: 1.7 megayear dt: 20000.0 year (2020-12-02 12:38:35)\n",
      "Step:    86 Model Time: 1.7 megayear dt: 20000.0 year (2020-12-02 12:39:06)\n",
      "Step:    87 Model Time: 1.7 megayear dt: 20000.0 year (2020-12-02 12:39:38)\n",
      "Step:    88 Model Time: 1.7 megayear dt: 20000.0 year (2020-12-02 12:40:09)\n",
      "Step:    89 Model Time: 1.8 megayear dt: 20000.0 year (2020-12-02 12:40:41)\n",
      "Step:    90 Model Time: 1.8 megayear dt: 20000.0 year (2020-12-02 12:41:11)\n",
      "Step:    91 Model Time: 1.8 megayear dt: 20000.0 year (2020-12-02 12:41:41)\n",
      "Step:    92 Model Time: 1.8 megayear dt: 20000.0 year (2020-12-02 12:42:12)\n",
      "Step:    93 Model Time: 1.8 megayear dt: 20000.0 year (2020-12-02 12:42:42)\n",
      "Step:    94 Model Time: 1.9 megayear dt: 20000.0 year (2020-12-02 12:43:11)\n",
      "Step:    95 Model Time: 1.9 megayear dt: 20000.0 year (2020-12-02 12:43:41)\n",
      "Step:    96 Model Time: 1.9 megayear dt: 20000.0 year (2020-12-02 12:44:12)\n",
      "Step:    97 Model Time: 1.9 megayear dt: 20000.0 year (2020-12-02 12:44:42)\n",
      "Step:    98 Model Time: 1.9 megayear dt: 20000.0 year (2020-12-02 12:45:12)\n",
      "Step:    99 Model Time: 2.0 megayear dt: 20000.0 year (2020-12-02 12:45:42)\n",
      "Step:   100 Model Time: 2.0 megayear dt: 20000.0 year (2020-12-02 12:46:11)\n",
      "Step:   101 Model Time: 2.0 megayear dt: 20000.0 year (2020-12-02 12:47:34)\n",
      "Step:   102 Model Time: 2.0 megayear dt: 20000.0 year (2020-12-02 12:48:05)\n"
     ]
    },
    {
     "name": "stdout",
     "output_type": "stream",
     "text": [
      "Step:   103 Model Time: 2.0 megayear dt: 20000.0 year (2020-12-02 12:48:35)\n",
      "Step:   104 Model Time: 2.1 megayear dt: 20000.0 year (2020-12-02 12:49:06)\n",
      "Step:   105 Model Time: 2.1 megayear dt: 20000.0 year (2020-12-02 12:49:36)\n",
      "Step:   106 Model Time: 2.1 megayear dt: 20000.0 year (2020-12-02 12:50:07)\n",
      "Step:   107 Model Time: 2.1 megayear dt: 20000.0 year (2020-12-02 12:50:37)\n",
      "Step:   108 Model Time: 2.1 megayear dt: 20000.0 year (2020-12-02 12:51:07)\n",
      "Step:   109 Model Time: 2.2 megayear dt: 20000.0 year (2020-12-02 12:51:38)\n",
      "Step:   110 Model Time: 2.2 megayear dt: 20000.0 year (2020-12-02 12:52:07)\n",
      "Step:   111 Model Time: 2.2 megayear dt: 20000.0 year (2020-12-02 12:52:37)\n",
      "Step:   112 Model Time: 2.2 megayear dt: 20000.0 year (2020-12-02 12:53:07)\n",
      "Step:   113 Model Time: 2.2 megayear dt: 20000.0 year (2020-12-02 12:53:38)\n",
      "Step:   114 Model Time: 2.3 megayear dt: 20000.0 year (2020-12-02 12:54:08)\n",
      "Step:   115 Model Time: 2.3 megayear dt: 20000.0 year (2020-12-02 12:54:37)\n",
      "Step:   116 Model Time: 2.3 megayear dt: 20000.0 year (2020-12-02 12:55:07)\n",
      "Step:   117 Model Time: 2.3 megayear dt: 20000.0 year (2020-12-02 12:55:38)\n",
      "Step:   118 Model Time: 2.3 megayear dt: 20000.0 year (2020-12-02 12:56:08)\n",
      "Step:   119 Model Time: 2.4 megayear dt: 20000.0 year (2020-12-02 12:56:36)\n",
      "Step:   120 Model Time: 2.4 megayear dt: 20000.0 year (2020-12-02 12:57:04)\n",
      "Step:   121 Model Time: 2.4 megayear dt: 20000.0 year (2020-12-02 12:57:31)\n",
      "Step:   122 Model Time: 2.4 megayear dt: 20000.0 year (2020-12-02 12:57:58)\n",
      "Step:   123 Model Time: 2.4 megayear dt: 20000.0 year (2020-12-02 12:58:25)\n",
      "Step:   124 Model Time: 2.5 megayear dt: 20000.0 year (2020-12-02 12:58:53)\n",
      "Step:   125 Model Time: 2.5 megayear dt: 20000.0 year (2020-12-02 12:59:21)\n",
      "Step:   126 Model Time: 2.5 megayear dt: 20000.0 year (2020-12-02 12:59:48)\n",
      "Step:   127 Model Time: 2.5 megayear dt: 20000.0 year (2020-12-02 13:00:15)\n",
      "Step:   128 Model Time: 2.5 megayear dt: 20000.0 year (2020-12-02 13:00:42)\n",
      "Step:   129 Model Time: 2.6 megayear dt: 20000.0 year (2020-12-02 13:01:09)\n",
      "Step:   130 Model Time: 2.6 megayear dt: 20000.0 year (2020-12-02 13:01:36)\n",
      "Step:   131 Model Time: 2.6 megayear dt: 20000.0 year (2020-12-02 13:02:03)\n",
      "Step:   132 Model Time: 2.6 megayear dt: 20000.0 year (2020-12-02 13:02:29)\n",
      "Step:   133 Model Time: 2.6 megayear dt: 20000.0 year (2020-12-02 13:02:57)\n",
      "Step:   134 Model Time: 2.7 megayear dt: 20000.0 year (2020-12-02 13:03:24)\n",
      "Step:   135 Model Time: 2.7 megayear dt: 20000.0 year (2020-12-02 13:03:51)\n",
      "Step:   136 Model Time: 2.7 megayear dt: 20000.0 year (2020-12-02 13:04:19)\n",
      "Step:   137 Model Time: 2.7 megayear dt: 20000.0 year (2020-12-02 13:04:46)\n",
      "Step:   138 Model Time: 2.7 megayear dt: 20000.0 year (2020-12-02 13:05:13)\n",
      "Step:   139 Model Time: 2.8 megayear dt: 20000.0 year (2020-12-02 13:05:40)\n",
      "Step:   140 Model Time: 2.8 megayear dt: 20000.0 year (2020-12-02 13:06:07)\n",
      "Step:   141 Model Time: 2.8 megayear dt: 20000.0 year (2020-12-02 13:06:35)\n",
      "Step:   142 Model Time: 2.8 megayear dt: 20000.0 year (2020-12-02 13:07:02)\n",
      "Step:   143 Model Time: 2.8 megayear dt: 20000.0 year (2020-12-02 13:07:29)\n",
      "Step:   144 Model Time: 2.9 megayear dt: 20000.0 year (2020-12-02 13:07:56)\n",
      "Step:   145 Model Time: 2.9 megayear dt: 20000.0 year (2020-12-02 13:08:23)\n",
      "Step:   146 Model Time: 2.9 megayear dt: 20000.0 year (2020-12-02 13:08:51)\n",
      "Step:   147 Model Time: 2.9 megayear dt: 20000.0 year (2020-12-02 13:09:18)\n",
      "Step:   148 Model Time: 2.9 megayear dt: 20000.0 year (2020-12-02 13:09:45)\n",
      "Step:   149 Model Time: 3.0 megayear dt: 20000.0 year (2020-12-02 13:10:12)\n",
      "Step:   150 Model Time: 3.0 megayear dt: 20000.0 year (2020-12-02 13:10:39)\n",
      "Step:   151 Model Time: 3.0 megayear dt: 20000.0 year (2020-12-02 13:11:55)\n",
      "Step:   152 Model Time: 3.0 megayear dt: 20000.0 year (2020-12-02 13:12:21)\n",
      "Step:   153 Model Time: 3.0 megayear dt: 20000.0 year (2020-12-02 13:12:48)\n",
      "Step:   154 Model Time: 3.1 megayear dt: 20000.0 year (2020-12-02 13:13:14)\n",
      "Step:   155 Model Time: 3.1 megayear dt: 20000.0 year (2020-12-02 13:13:41)\n",
      "Step:   156 Model Time: 3.1 megayear dt: 20000.0 year (2020-12-02 13:14:08)\n",
      "Step:   157 Model Time: 3.1 megayear dt: 20000.0 year (2020-12-02 13:14:34)\n",
      "Step:   158 Model Time: 3.1 megayear dt: 20000.0 year (2020-12-02 13:15:01)\n",
      "Step:   159 Model Time: 3.2 megayear dt: 20000.0 year (2020-12-02 13:15:28)\n",
      "Step:   160 Model Time: 3.2 megayear dt: 20000.0 year (2020-12-02 13:15:54)\n",
      "Step:   161 Model Time: 3.2 megayear dt: 20000.0 year (2020-12-02 13:16:21)\n",
      "Step:   162 Model Time: 3.2 megayear dt: 20000.0 year (2020-12-02 13:16:48)\n",
      "Step:   163 Model Time: 3.2 megayear dt: 20000.0 year (2020-12-02 13:17:14)\n",
      "Step:   164 Model Time: 3.3 megayear dt: 20000.0 year (2020-12-02 13:17:41)\n",
      "Step:   165 Model Time: 3.3 megayear dt: 20000.0 year (2020-12-02 13:18:08)\n",
      "Step:   166 Model Time: 3.3 megayear dt: 20000.0 year (2020-12-02 13:18:34)\n",
      "Step:   167 Model Time: 3.3 megayear dt: 20000.0 year (2020-12-02 13:19:02)\n",
      "Step:   168 Model Time: 3.3 megayear dt: 20000.0 year (2020-12-02 13:19:28)\n",
      "Step:   169 Model Time: 3.4 megayear dt: 20000.0 year (2020-12-02 13:19:55)\n",
      "Step:   170 Model Time: 3.4 megayear dt: 20000.0 year (2020-12-02 13:20:22)\n",
      "Step:   171 Model Time: 3.4 megayear dt: 20000.0 year (2020-12-02 13:20:49)\n",
      "Step:   172 Model Time: 3.4 megayear dt: 20000.0 year (2020-12-02 13:21:16)\n",
      "Step:   173 Model Time: 3.4 megayear dt: 20000.0 year (2020-12-02 13:21:43)\n",
      "Step:   174 Model Time: 3.5 megayear dt: 20000.0 year (2020-12-02 13:22:10)\n",
      "Step:   175 Model Time: 3.5 megayear dt: 20000.0 year (2020-12-02 13:22:37)\n",
      "Step:   176 Model Time: 3.5 megayear dt: 20000.0 year (2020-12-02 13:23:03)\n",
      "Step:   177 Model Time: 3.5 megayear dt: 20000.0 year (2020-12-02 13:23:30)\n",
      "Step:   178 Model Time: 3.5 megayear dt: 20000.0 year (2020-12-02 13:23:57)\n",
      "Step:   179 Model Time: 3.6 megayear dt: 20000.0 year (2020-12-02 13:24:24)\n",
      "Step:   180 Model Time: 3.6 megayear dt: 20000.0 year (2020-12-02 13:24:51)\n",
      "Step:   181 Model Time: 3.6 megayear dt: 20000.0 year (2020-12-02 13:25:19)\n",
      "Step:   182 Model Time: 3.6 megayear dt: 20000.0 year (2020-12-02 13:25:46)\n",
      "Step:   183 Model Time: 3.6 megayear dt: 20000.0 year (2020-12-02 13:26:13)\n",
      "Step:   184 Model Time: 3.7 megayear dt: 20000.0 year (2020-12-02 13:26:40)\n",
      "Step:   185 Model Time: 3.7 megayear dt: 20000.0 year (2020-12-02 13:27:08)\n",
      "Step:   186 Model Time: 3.7 megayear dt: 20000.0 year (2020-12-02 13:27:35)\n",
      "Step:   187 Model Time: 3.7 megayear dt: 20000.0 year (2020-12-02 13:28:02)\n",
      "Step:   188 Model Time: 3.7 megayear dt: 20000.0 year (2020-12-02 13:28:30)\n",
      "Step:   189 Model Time: 3.8 megayear dt: 20000.0 year (2020-12-02 13:28:57)\n",
      "Step:   190 Model Time: 3.8 megayear dt: 20000.0 year (2020-12-02 13:29:24)\n",
      "Step:   191 Model Time: 3.8 megayear dt: 20000.0 year (2020-12-02 13:29:51)\n",
      "Step:   192 Model Time: 3.8 megayear dt: 20000.0 year (2020-12-02 13:30:18)\n",
      "Step:   193 Model Time: 3.8 megayear dt: 20000.0 year (2020-12-02 13:30:45)\n",
      "Step:   194 Model Time: 3.9 megayear dt: 20000.0 year (2020-12-02 13:31:12)\n",
      "Step:   195 Model Time: 3.9 megayear dt: 20000.0 year (2020-12-02 13:31:39)\n",
      "Step:   196 Model Time: 3.9 megayear dt: 20000.0 year (2020-12-02 13:32:07)\n",
      "Step:   197 Model Time: 3.9 megayear dt: 20000.0 year (2020-12-02 13:32:34)\n",
      "Step:   198 Model Time: 3.9 megayear dt: 20000.0 year (2020-12-02 13:33:01)\n",
      "Step:   199 Model Time: 4.0 megayear dt: 20000.0 year (2020-12-02 13:33:28)\n",
      "Step:   200 Model Time: 4.0 megayear dt: 20000.0 year (2020-12-02 13:33:56)\n",
      "Step:   201 Model Time: 4.0 megayear dt: 20000.0 year (2020-12-02 13:34:23)\n",
      "Step:   202 Model Time: 4.0 megayear dt: 0.3 second (2020-12-02 13:35:40)\n"
     ]
    },
    {
     "data": {
      "text/plain": [
       "1"
      ]
     },
     "execution_count": 15,
     "metadata": {},
     "output_type": "execute_result"
    }
   ],
   "source": [
    "Model.run_for(4.0 * u.megayears, checkpoint_interval=1.0 *u.megayears,dt= dt)"
   ]
  },
  {
   "cell_type": "code",
   "execution_count": 16,
   "metadata": {},
   "outputs": [],
   "source": [
    "import h5py   \n",
    "import matplotlib.pyplot as plt\n",
    "\n",
    "def load_h5_tracer(fdir,tracer_name,number,dt):\n",
    "    \"\"\"\n",
    "    load the data of the passive tracer from h5 file\n",
    "    -----------\n",
    "    Input:\n",
    "    fdir   : *Str*, input file dir \n",
    "    tracer_name : *Str*, name of tracer\n",
    "    number : *Int*, the number of file\n",
    "    dt     : *Float*, [Ma], the time interval of files\n",
    "    -----------\n",
    "    Output:\n",
    "    coord : *Np.array*\n",
    "    data  : *Np.array*  \n",
    "    label : *str*\n",
    "    \"\"\"\n",
    "    fname = fdir+tracer_name +\"-\"+str(number)+\".h5\"\n",
    "    label = str(number*dt) + \" Ma\"\n",
    "    fh5   = h5py.File(fname ,'r')  \n",
    "    fdata = fh5[\"data\"][()]\n",
    "    coord = fdata[:,0]\n",
    "    data  = fdata[:,1]\n",
    "    return coord,data,label"
   ]
  },
  {
   "cell_type": "code",
   "execution_count": 17,
   "metadata": {},
   "outputs": [
    {
     "data": {
      "image/png": "[encoded data removed]",
      "text/plain": [
       "<Figure size 864x216 with 1 Axes>"
      ]
     },
     "metadata": {
      "needs_background": "light"
     },
     "output_type": "display_data"
    }
   ],
   "source": [
    "### not axisymmetric\n",
    "tracer_name = \"Surface\"\n",
    "number = 4\n",
    "dT = 1\n",
    "\n",
    "fig, ax = plt.subplots(1, 1, figsize=(12,3))\n",
    "ax.set(xlabel='Distance [km]', ylabel='Topography [m]') \n",
    "\n",
    "fdir = fdir_output+\"/\"\n",
    "coord,elev,label = load_h5_tracer(fdir,tracer_name,number,dT)\n",
    "ax.plot(coord,elev*1000,label=label)\n",
    "\n",
    "ax.set_xlim([0,2800])\n",
    "ax.set_ylim([-200,600])\n",
    "#ax.set_ylim([-200,1000])\n",
    "ax.legend(loc = 'upper right',prop = {'size':8}) \n",
    "ax.grid()\n",
    "fname = fdir_output+str(4)+\"Ma\"\n",
    "plt.savefig(fname)"
   ]
  },
  {
   "cell_type": "code",
   "execution_count": null,
   "metadata": {},
   "outputs": [],
   "source": []
  }
 ],
 "metadata": {
  "kernelspec": {
   "display_name": "Python 3",
   "language": "python",
   "name": "python3"
  },
  "language_info": {
   "codemirror_mode": {
    "name": "ipython",
    "version": 3
   },
   "file_extension": ".py",
   "mimetype": "text/x-python",
   "name": "python",
   "nbconvert_exporter": "python",
   "pygments_lexer": "ipython3",
   "version": "3.7.3"
  }
 },
 "nbformat": 4,
 "nbformat_minor": 4
}
