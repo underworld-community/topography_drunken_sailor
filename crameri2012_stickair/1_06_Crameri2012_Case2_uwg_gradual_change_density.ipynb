{
 "cells": [
  {
   "cell_type": "markdown",
   "metadata": {},
   "source": [
    "The sticky air method is a good way to simulate a free surface for Eulerian approaches, provided that its parameters are chosen carefully ($C\\ll1$).\n",
    "\n",
    "2.1.1 Isostatic timescale\n",
    "\n",
    "$C_{isost}= \\frac{3}{16\\pi^{3}}(\\frac{L}{h_{st}})^{3}\\frac{\\eta_{st}}{\\eta_{ch}}$\n",
    "\n",
    "\n",
    "2.1.2 Stokes timescale\n",
    "\n",
    "$C_{Stokes}= \\frac{1}{16}\\frac{\\Delta \\rho }{\\rho }(\\frac{h_{model}}{h_{st}})^{3}\\frac{\\eta_{st}}{\\eta_{ch}}$\n",
    "\n",
    "\n",
    "This is the case2 in the reference, like fig.7 and fig.5\n",
    "\n",
    "with stick air having gradual_change density (3300~1 kg/m^3) \n",
    "\n",
    "### Reference\n",
    "\n",
    "- Crameri, F., Schmeling, H., Golabek, G. J., Duretz, T., Orendt, R., Buiter, S. J. H., ... & Tackley, P. J. (2012). A comparison of numerical surface topography calculations in geodynamic modelling: an evaluation of the ‘sticky air’method. Geophysical Journal International, 189(1), 38-54."
   ]
  },
  {
   "cell_type": "code",
   "execution_count": 1,
   "metadata": {},
   "outputs": [
    {
     "name": "stdout",
     "output_type": "stream",
     "text": [
      "loaded rc file /opt/venv/lib/python3.7/site-packages/UWGeodynamics/uwgeo-data/uwgeodynamicsrc\n"
     ]
    },
    {
     "data": {
      "text/plain": [
       "'2.10.1-dev-dcb2ff4(development)'"
      ]
     },
     "execution_count": 1,
     "metadata": {},
     "output_type": "execute_result"
    }
   ],
   "source": [
    "import UWGeodynamics as GEO\n",
    "from UWGeodynamics import visualisation as vis\n",
    "from underworld import function as fn\n",
    "import numpy as np\n",
    "u = GEO.UnitRegistry\n",
    "GEO.__version__"
   ]
  },
  {
   "cell_type": "code",
   "execution_count": 2,
   "metadata": {},
   "outputs": [],
   "source": [
    "Res_mesh = (560,340)\n",
    "#Res_mesh =(280,340)\n",
    "Res_real = [(0.,2800.),(-700,150.)] # Unit: km \n",
    "\n",
    "H_air = 150.* u.kilometer\n",
    "D_LAB = -100.* u.kilometer\n",
    "D_ma  = -700. * u.kilometer\n",
    "D_plume = 100. * u.kilometer\n",
    "\n",
    "dt = 0.005*u.megayears\n",
    "fdir_output = \"OPC2012_uwg_sgcdensity_5k_H50km\" \n",
    "\n",
    "# dt = 0.02*u.megayears\n",
    "# fdir_output = \"OPC2012_uwg_waterdensity_20k\" "
   ]
  },
  {
   "cell_type": "code",
   "execution_count": 3,
   "metadata": {},
   "outputs": [],
   "source": [
    "# Scaling\n",
    "ref_viscosity = 1.0e21 * u.pascal * u.second\n",
    "ref_density  = 3300. * u.kilogram / u.meter**3\n",
    "ref_length = 850. * u.kilometer #  modprop.boxHeight\n",
    "\n",
    "KL = ref_length\n",
    "KM = ref_density * KL**3\n",
    "KT = 1.0 / (ref_viscosity / KM * KL)\n",
    "\n",
    "GEO.scaling_coefficients[\"[time]\"] = KT\n",
    "GEO.scaling_coefficients[\"[length]\"] = KL\n",
    "GEO.scaling_coefficients[\"[mass]\"] = KM\n",
    "\n",
    "\n",
    "# Model mesh\n",
    "Model = GEO.Model(elementRes=Res_mesh,\n",
    "                  minCoord=(Res_real[0][0] * u.kilometer, Res_real[1][0] * u.kilometer),  \n",
    "                  maxCoord=(Res_real[0][1] * u.kilometer, Res_real[1][1] * u.kilometer),\n",
    "                  gravity=(0.0, -10. * u.meter / u.second**2))\n",
    "\n",
    "Model.outputDir=fdir_output\n",
    "\n"
   ]
  },
  {
   "cell_type": "code",
   "execution_count": 5,
   "metadata": {},
   "outputs": [],
   "source": [
    "Model.minStrainRate = 1e-18 / u.second"
   ]
  },
  {
   "cell_type": "code",
   "execution_count": null,
   "metadata": {},
   "outputs": [],
   "source": [
    "GEO.scaling_coefficients"
   ]
  },
  {
   "cell_type": "code",
   "execution_count": null,
   "metadata": {},
   "outputs": [],
   "source": [
    "GEO.nd(ref_density),GEO.nd(ref_viscosity),GEO.nd(ref_length)"
   ]
  },
  {
   "cell_type": "code",
   "execution_count": null,
   "metadata": {},
   "outputs": [],
   "source": [
    "model_mid  = (Model.maxCoord[0]-Model.minCoord[0])/2\n",
    "\n",
    "center_x = model_mid\n",
    "center_y = D_ma + 300 * u.kilometer\n",
    "R_plume = 50 * u.kilometer\n",
    "\n",
    "top_stickair = 50.* u.kilometer \n",
    "\n",
    "air_Shape =  GEO.shapes.Layer2D(top=Model.top, bottom=top_stickair)\n",
    "stickair_Shape =  GEO.shapes.Layer2D(top=top_stickair, bottom=0. * u.kilometer)\n",
    "li_Shape = GEO.shapes.Layer2D(top=0. * u.kilometer ,bottom=D_LAB)\n",
    "ma_Shape = GEO.shapes.Layer2D(top=li_Shape.bottom, bottom=D_ma)\n",
    "mp_Shape = GEO.shapes.Disk(center=(center_x , center_y),radius=R_plume)"
   ]
  },
  {
   "cell_type": "code",
   "execution_count": null,
   "metadata": {},
   "outputs": [],
   "source": [
    "air = Model.add_material(name=\"Air\", shape=air_Shape)\n",
    "stickair = Model.add_material(name=\"Stick Air\", shape=stickair_Shape)\n",
    "li  = Model.add_material(name=\"Lithosphere\", shape=li_Shape)\n",
    "ma  = Model.add_material(name=\"Mantle Asthenosphere\", shape=ma_Shape)\n",
    "mp  = Model.add_material(name=\"Mantle Plume\", shape=mp_Shape)"
   ]
  },
  {
   "cell_type": "code",
   "execution_count": null,
   "metadata": {},
   "outputs": [],
   "source": [
    "npoints = 5000\n",
    "coords = np.ndarray((npoints, 2))\n",
    "coords[:, 0] = np.linspace(GEO.nd(Model.minCoord[0]), GEO.nd(Model.maxCoord[0]), npoints)\n",
    "coords[:, 1] = GEO.nd(0.* u.kilometre)\n",
    "surf_tracers = Model.add_passive_tracers(name=\"Surface\",vertices=coords)\n",
    "\n",
    "# coords = np.ndarray((npoints, 2))\n",
    "# coords[:, 0] = np.linspace(GEO.nd(Model.minCoord[0]), GEO.nd(Model.maxCoord[0]), npoints)\n",
    "# coords[:, 1] = GEO.nd(-H_moho)\n",
    "# moho_tracers = Model.add_passive_tracers(name=\"Moho\",vertices=coords)"
   ]
  },
  {
   "cell_type": "code",
   "execution_count": null,
   "metadata": {},
   "outputs": [],
   "source": [
    "Fig = vis.Figure(figsize=(1200,400),title=\"Material Field\")\n",
    "Fig.Points(surf_tracers, pointSize=4.0)\n",
    "Fig.Points(Model.swarm, Model.materialField,fn_size=2.0,discrete=True)\n",
    "Fig.save(\"F_Material Field_stickair.png\")\n",
    "Fig.show()"
   ]
  },
  {
   "cell_type": "code",
   "execution_count": null,
   "metadata": {},
   "outputs": [],
   "source": [
    "Model.add_swarm_variable(\"depthField\", dataType=\"double\", count=1)\n",
    "Model.depthField.data[...] = Model.y.evaluate(Model.swarm)"
   ]
  },
  {
   "cell_type": "code",
   "execution_count": null,
   "metadata": {},
   "outputs": [],
   "source": [
    "Fig = vis.Figure(figsize=(1200,400),title=\"Depth Field\")\n",
    "Fig.Points(surf_tracers, pointSize=4.0)\n",
    "Fig.Points(Model.swarm, Model.depthField,fn_size=2.0) #,discrete=True)\n",
    "#Fig.save(\"F_Material Field_stickair.png\")\n",
    "Fig.show()"
   ]
  },
  {
   "cell_type": "code",
   "execution_count": null,
   "metadata": {},
   "outputs": [],
   "source": [
    "# density\n",
    "air.density =  1. * u.kilogram / u.metre**3\n",
    "li.density = 3300. * u.kilogram / u.metre**3 \n",
    "ma.density = 3300. * u.kilogram / u.metre**3\n",
    "mp.density = 3200. * u.kilogram / u.metre**3\n",
    "\n",
    "\n",
    "density1 = GEO.nd(3300. * u.kilogram / u.metre**3)\n",
    "density2 = GEO.nd(1. * u.kilogram / u.metre**3)  \n",
    "top = GEO.nd(top_stickair)\n",
    "bottom = GEO.nd(0. * u.kilometer)\n",
    "\n",
    "stickair.density = density2+(density1-density2)*(-Model.depthField+top)/(top-bottom)"
   ]
  },
  {
   "cell_type": "code",
   "execution_count": null,
   "metadata": {},
   "outputs": [],
   "source": [
    "Fig = vis.Figure(figsize=(1200,400),title=\"Density Field\")\n",
    "Fig.Points(surf_tracers, pointSize=4.0)\n",
    "Fig.Points(Model.swarm, Model.densityField,fn_size=2.0) #,discrete=True)\n",
    "Fig.save(\"F_Density Field_stickair_Gradual_Change.png\")\n",
    "Fig.show()"
   ]
  },
  {
   "cell_type": "code",
   "execution_count": null,
   "metadata": {},
   "outputs": [],
   "source": [
    "import matplotlib.pyplot as plt\n",
    "x_min = 1400 * u.kilometer\n",
    "x_max = 1400 * u.kilometer\n",
    "y_min = -700 * u.kilometer\n",
    "y_max = 150 * u.kilometer\n",
    "distances, density = GEO.extract_profile(Model.densityField,line = [(x_max, y_min), (x_min, y_max)],nsamples=500)\n",
    "\n",
    "# Fig, (ax1) = plt.subplots                                                                                                                                          (1,1,figsize=(7,7))\n",
    "Fig, ax1  = plt.subplots(1,1,figsize=(3,8))\n",
    "ax1.plot((GEO.dimensionalise(density, u.kilogram / u.metre**3)), GEO.dimensionalise(distances, u.kilometer)-700*u.kilometer)\n",
    "ax1.set_xlabel(\"Density [kg/m**3]\")\n",
    "ax1.set_ylabel(\"Depth [km]\")\n",
    "ax1.set_ylim(-700,150)\n",
    "ax1.set_yticks(np.arange(-700,156,50))\n",
    "#ax1.set_title(\"Temperature profile \")\n",
    "plt.savefig(\"Density at x= 1400km\",bbox_inches=\"tight\")"
   ]
  },
  {
   "cell_type": "code",
   "execution_count": null,
   "metadata": {},
   "outputs": [],
   "source": [
    "# xmin,xmax = 0.0, 0.01\n",
    "# ymin,ymax = -0.007,0.05\n",
    "# minbox = (xmin,ymin)\n",
    "# maxbox = (xmax,ymax)\n",
    "# Fig = vis.Figure(figsize=(1600,800),quality=3,clipmap=False,xmin=xmin, xmax=xmax, ymin=ymin, ymax=ymax,\n",
    "#                             boundingBox=(minbox,maxbox),margin = 150, rulers = True, rulerticks=11)\n",
    "# #Fig.Points(surf_tracers, pointSize=4.0)\n",
    "# Fig.Points(Model.swarm, Model.densityField,fn_size=4.0) #,discrete=True)\n",
    "# Fig.Mesh(Model.mesh)\n",
    "# #Fig.save(\"F_Material Field.png\")\n",
    "# Fig.show()"
   ]
  },
  {
   "cell_type": "code",
   "execution_count": null,
   "metadata": {},
   "outputs": [],
   "source": [
    "# # compressibility\n",
    "# bulk_visc = 1e15 * u.pascal * u.second\n",
    "# air.compressibility = 1.0/bulk_visc\n",
    "# li.compressibility = 0.0\n",
    "# ma.compressibility = 0.0\n",
    "# mp.compressibility = 0.0"
   ]
  },
  {
   "cell_type": "code",
   "execution_count": null,
   "metadata": {},
   "outputs": [],
   "source": [
    "# GEO.nd(air.compressibility)"
   ]
  },
  {
   "cell_type": "code",
   "execution_count": null,
   "metadata": {},
   "outputs": [],
   "source": [
    "# Model._lambdaFn.evaluate(Model.mesh)"
   ]
  },
  {
   "cell_type": "code",
   "execution_count": null,
   "metadata": {},
   "outputs": [],
   "source": [
    "# Viscosity\n",
    "Model.minViscosity = 1e19 * u.pascal * u.second\n",
    "Model.maxViscosity = 1e23 * u.pascal * u.second\n",
    "\n",
    "\n",
    "air.viscosity  =  1e19 * u.pascal * u.second  \n",
    "li.viscosity  =  1e23 * u.pascal * u.second                             \n",
    "ma.viscosity  =  1e21 * u.pascal * u.second\n",
    "mp.viscosity  =  1e20 * u.pascal * u.second\n",
    "\n",
    "stickair.viscosity = 1e19 * u.pascal * u.second"
   ]
  },
  {
   "cell_type": "code",
   "execution_count": null,
   "metadata": {},
   "outputs": [],
   "source": [
    "# Boundary conditions\n",
    "Model.set_velocityBCs(left=[0., None],\n",
    "                      right=[0., None],\n",
    "                      bottom=[0.,0.],\n",
    "                      top = [None,0.])"
   ]
  },
  {
   "cell_type": "code",
   "execution_count": null,
   "metadata": {},
   "outputs": [],
   "source": [
    "Model.solver.set_inner_method(\"mumps\")\n",
    "#Model.solver.set_penalty(0.0)\n",
    "Model.solver.set_penalty(1e6)\n",
    "\n",
    "GEO.rcParams[\"initial.nonlinear.max.iterations\"] = 50\n",
    "GEO.rcParams[\"nonlinear.max.iterations\"] = 25\n",
    "GEO.rcParams[\"initial.nonlinear.tolerance\"]= 1e-4\n",
    "GEO.rcParams[\"nonlinear.tolerance\"]= 1e-3 \n",
    "\n",
    "GEO.rcParams['swarm.particles.per.cell.2D'] = 36"
   ]
  },
  {
   "cell_type": "code",
   "execution_count": null,
   "metadata": {},
   "outputs": [],
   "source": [
    "Model.init_model(temperature=False, pressureField=True)"
   ]
  },
  {
   "cell_type": "code",
   "execution_count": null,
   "metadata": {
    "scrolled": true
   },
   "outputs": [],
   "source": [
    "Model.run_for(4.0 * u.megayears, checkpoint_interval=1.0 *u.megayears,dt= dt)\n",
    "\n",
    "#Model.run_for(0.02 * u.megayears, checkpoint_interval=0.01 *u.megayears,dt= dt)"
   ]
  },
  {
   "cell_type": "code",
   "execution_count": null,
   "metadata": {},
   "outputs": [],
   "source": [
    "import h5py   \n",
    "import matplotlib.pyplot as plt\n",
    "\n",
    "def load_h5_tracer(fdir,tracer_name,number,dt):\n",
    "    \"\"\"\n",
    "    load the data of the passive tracer from h5 file\n",
    "    -----------\n",
    "    Input:\n",
    "    fdir   : *Str*, input file dir \n",
    "    tracer_name : *Str*, name of tracer\n",
    "    number : *Int*, the number of file\n",
    "    dt     : *Float*, [Ma], the time interval of files\n",
    "    -----------\n",
    "    Output:\n",
    "    coord : *Np.array*\n",
    "    data  : *Np.array*  \n",
    "    label : *str*\n",
    "    \"\"\"\n",
    "    fname = fdir+tracer_name +\"-\"+str(number)+\".h5\"\n",
    "    label = str(number*dt) + \" Ma\"\n",
    "    fh5   = h5py.File(fname ,'r')  \n",
    "    fdata = fh5[\"data\"][()]\n",
    "    coord = fdata[:,0]\n",
    "    data  = fdata[:,1]\n",
    "    return coord,data,label"
   ]
  },
  {
   "cell_type": "code",
   "execution_count": null,
   "metadata": {},
   "outputs": [],
   "source": [
    "### not axisymmetric\n",
    "tracer_name = \"Surface\"\n",
    "number = 2\n",
    "dT = 1\n",
    "\n",
    "fig, ax = plt.subplots(1, 1, figsize=(12,3))\n",
    "ax.set(xlabel='Distance [km]', ylabel='Topography [m]') \n",
    "\n",
    "fdir = fdir_output+\"/\"\n",
    "coord,elev,label = load_h5_tracer(fdir,tracer_name,number,dT)\n",
    "ax.plot(coord,elev*1000,label=label)\n",
    "\n",
    "ax.set_xlim([0,2800])\n",
    "#ax.set_ylim([-200,600])\n",
    "#ax.set_ylim([-200,1000])\n",
    "ax.legend(loc = 'upper right',prop = {'size':8}) \n",
    "ax.grid()\n",
    "fname = fdir_output+str(4)+\"Ma\"\n",
    "plt.savefig(fname)"
   ]
  },
  {
   "cell_type": "code",
   "execution_count": null,
   "metadata": {},
   "outputs": [],
   "source": [
    "Fig = vis.Figure(figsize=(1200,400),title=\"Density Field\")\n",
    "Fig.Points(surf_tracers, pointSize=4.0)\n",
    "Fig.Points(Model.swarm, Model.densityField,fn_size=2.0) #,discrete=True)\n",
    "Fig.save(\"F_Density Field_stickair_Gradual_Change.png\")\n",
    "Fig.show()"
   ]
  },
  {
   "cell_type": "code",
   "execution_count": null,
   "metadata": {},
   "outputs": [],
   "source": [
    "Fig = vis.Figure(figsize=(1200,400),title=\"Depth Field\")\n",
    "Fig.Points(surf_tracers, pointSize=4.0)\n",
    "Fig.Points(Model.swarm, Model.depthField,fn_size=2.0) #,discrete=True)\n",
    "#Fig.save(\"F_Material Field_stickair.png\")\n",
    "Fig.show()"
   ]
  },
  {
   "cell_type": "code",
   "execution_count": null,
   "metadata": {},
   "outputs": [],
   "source": []
  }
 ],
 "metadata": {
  "kernelspec": {
   "display_name": "Python 3",
   "language": "python",
   "name": "python3"
  },
  "language_info": {
   "codemirror_mode": {
    "name": "ipython",
    "version": 3
   },
   "file_extension": ".py",
   "mimetype": "text/x-python",
   "name": "python",
   "nbconvert_exporter": "python",
   "pygments_lexer": "ipython3",
   "version": "3.7.3"
  }
 },
 "nbformat": 4,
 "nbformat_minor": 4
}
