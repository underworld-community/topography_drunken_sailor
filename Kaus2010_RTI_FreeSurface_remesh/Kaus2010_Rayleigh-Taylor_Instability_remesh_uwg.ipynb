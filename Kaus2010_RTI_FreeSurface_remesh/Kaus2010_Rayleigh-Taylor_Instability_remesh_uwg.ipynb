{
 "cells": [
  {
   "cell_type": "markdown",
   "metadata": {},
   "source": [
    "### Example in UWG\n",
    "2_15_Rayleigh-Taylor_van_Keken_et_al_1997\n",
    "\n",
    "### Ref:\n",
    "Kaus, B. J., Mühlhaus, H., & May, D. A. (2010). A stabilization algorithm for geodynamic numerical simulations with a free surface. Physics of the Earth and Planetary Interiors, 181(1-2), 12-20."
   ]
  },
  {
   "cell_type": "code",
   "execution_count": null,
   "metadata": {},
   "outputs": [],
   "source": [
    "import UWGeodynamics as GEO\n",
    "from UWGeodynamics import visualisation as vis\n",
    "\n",
    "u = GEO.UnitRegistry"
   ]
  },
  {
   "cell_type": "code",
   "execution_count": null,
   "metadata": {},
   "outputs": [],
   "source": [
    "Res_mesh = (50,50)  # res = 5km\n",
    "Res_real = [(-250.,250.),(-500,0.)] # Unit: km \n",
    "dt = 500*u.year\n",
    "fdir = \"Kaus2010_RT_0.5ka_rs\""
   ]
  },
  {
   "cell_type": "code",
   "execution_count": null,
   "metadata": {},
   "outputs": [],
   "source": [
    "# Scaling\n",
    "# test 3\n",
    "# dRho =   100. * u.kilogram / u.meter**3 # matprop.ref_density\n",
    "# g    =   9.81 * u.meter / u.second**2   # modprop.gravity\n",
    "boxLength = 500. * u.kilometer #  modprop.boxHeight\n",
    "\n",
    "# # lithostatic pressure for mass-time-length\n",
    "# ref_stress = dRho * g * boxLength\n",
    "\n",
    "# ref_viscosity = 1e21 * u.pascal * u.second\n",
    "# KL = boxLength\n",
    "# KT = ref_viscosity/ref_stress\n",
    "# KM = ref_viscosity*KL*KT \n",
    "\n",
    "# GEO.scaling_coefficients[\"[time]\"] = KT\n",
    "# GEO.scaling_coefficients[\"[length]\"] = KL\n",
    "# GEO.scaling_coefficients[\"[mass]\"] = KM\n",
    "\n",
    "half_rate = 1.0 * u.centimeter / u.year\n",
    "model_length = 500. * u.kilometer\n",
    "bodyforce = 3200 * u.kilogram / u.metre**3 * 9.81 * u.meter / u.second**2\n",
    "\n",
    "KL = model_length\n",
    "Kt = KL / half_rate\n",
    "KM = bodyforce * KL**2 * Kt**2\n",
    "\n",
    "GEO.scaling_coefficients[\"[length]\"] = KL\n",
    "GEO.scaling_coefficients[\"[time]\"] = Kt\n",
    "GEO.scaling_coefficients[\"[mass]\"]= KM"
   ]
  },
  {
   "cell_type": "code",
   "execution_count": null,
   "metadata": {},
   "outputs": [],
   "source": [
    "Model = GEO.Model(elementRes=Res_mesh,\n",
    "                  minCoord=(Res_real[0][0] * u.kilometer, Res_real[1][0] * u.kilometer),  \n",
    "                  maxCoord=(Res_real[0][1] * u.kilometer, Res_real[1][1] * u.kilometer),\n",
    "                  gravity=(0.0, -9.81 * u.meter / u.second**2))\n",
    "\n",
    "Model.outputDir = fdir"
   ]
  },
  {
   "cell_type": "code",
   "execution_count": null,
   "metadata": {},
   "outputs": [],
   "source": [
    "import math\n",
    "import underworld.function as fn\n",
    "\n",
    "# material perturbation from van Keken et al. 1997\n",
    "wavelength = GEO.nd(boxLength)\n",
    "amplitude  = GEO.nd(5*u.kilometer)\n",
    "offset     = GEO.nd(-100.*u.kilometer)\n",
    "k = 2. * math.pi / wavelength\n",
    "\n",
    "# Create function to return particle's coordinate\n",
    "coord = fn.coord()\n",
    "\n",
    "# Define the material perturbation, a function of the x coordinate (accessed by `coord[0]`).\n",
    "perturbationFn = offset + amplitude*fn.math.cos(k*coord[0])\n",
    "\n",
    "lightShape = perturbationFn > coord[1] \n",
    "densShape = perturbationFn < coord[1]"
   ]
  },
  {
   "cell_type": "code",
   "execution_count": null,
   "metadata": {},
   "outputs": [],
   "source": [
    "densMaterial = Model.add_material(name=\"Dense Material\", shape=densShape)\n",
    "lightMaterial = Model.add_material(name=\"Light Material\", shape=lightShape)"
   ]
  },
  {
   "cell_type": "code",
   "execution_count": null,
   "metadata": {},
   "outputs": [],
   "source": [
    "densMaterial.density  = 3300 * u.kilogram / u.metre**3\n",
    "lightMaterial.density = 3200 * u.kilogram / u.metre**3"
   ]
  },
  {
   "cell_type": "code",
   "execution_count": null,
   "metadata": {},
   "outputs": [],
   "source": [
    "densMaterial.viscosity = 1e21 * u.pascal * u.second\n",
    "lightMaterial.viscosity = 1e20 * u.pascal * u.second"
   ]
  },
  {
   "cell_type": "code",
   "execution_count": null,
   "metadata": {},
   "outputs": [],
   "source": [
    "Fig = vis.Figure(figsize=(500, 500))\n",
    "Fig.Points(Model.swarm, Model.materialField, fn_size=3.0)\n",
    "Fig.save(\"F_Kaus2010_RT_material.png\")\n",
    "Fig.show()"
   ]
  },
  {
   "cell_type": "code",
   "execution_count": null,
   "metadata": {},
   "outputs": [],
   "source": [
    "Model.set_velocityBCs(left=[0, None], right=[0., None],top=[None,None],bottom=[0.,0.])"
   ]
  },
  {
   "cell_type": "code",
   "execution_count": null,
   "metadata": {},
   "outputs": [],
   "source": [
    "Model.freesurface = True"
   ]
  },
  {
   "cell_type": "code",
   "execution_count": null,
   "metadata": {},
   "outputs": [],
   "source": [
    "#Model.init_model(temperature=False, pressureField=True)"
   ]
  },
  {
   "cell_type": "code",
   "execution_count": null,
   "metadata": {},
   "outputs": [],
   "source": [
    "Model.run_for(2.0 * u.megayears, checkpoint_interval=0.1*u.megayears,dt= dt)"
   ]
  },
  {
   "cell_type": "code",
   "execution_count": null,
   "metadata": {},
   "outputs": [],
   "source": [
    "Fig = vis.Figure(figsize=(500, 500))\n",
    "Fig.Surface(Model.mesh, Model.velocityField[1])\n",
    "Fig.VectorArrows(Model.mesh, Model.velocityField)\n",
    "Fig.save(\"Figure_2.png\")\n",
    "Fig.show()"
   ]
  },
  {
   "cell_type": "code",
   "execution_count": null,
   "metadata": {},
   "outputs": [],
   "source": [
    "Fig = vis.Figure(figsize=(500, 500))\n",
    "Fig.Points(Model.swarm, Model.materialField, fn_size=3.0)\n",
    "Fig.VectorArrows(Model.mesh, Model.velocityField)\n",
    "Fig.save(\"Figure_3.png\")\n",
    "Fig.show()"
   ]
  },
  {
   "cell_type": "code",
   "execution_count": null,
   "metadata": {},
   "outputs": [],
   "source": [
    "Fig = vis.Figure(figsize=(500, 500))\n",
    "Fig.Mesh(Model.mesh, fn_size=3.0)\n",
    "#Fig.VectorArrows(Model.mesh, Model.velocityField)\n",
    "Fig.save(\"Figure_mesh_3.png\")\n",
    "Fig.show()"
   ]
  },
  {
   "cell_type": "code",
   "execution_count": null,
   "metadata": {},
   "outputs": [],
   "source": [
    "Model.mesh.data"
   ]
  },
  {
   "cell_type": "code",
   "execution_count": null,
   "metadata": {},
   "outputs": [],
   "source": []
  }
 ],
 "metadata": {
  "kernelspec": {
   "display_name": "Python 3",
   "language": "python",
   "name": "python3"
  },
  "language_info": {
   "codemirror_mode": {
    "name": "ipython",
    "version": 3
   },
   "file_extension": ".py",
   "mimetype": "text/x-python",
   "name": "python",
   "nbconvert_exporter": "python",
   "pygments_lexer": "ipython3",
   "version": "3.7.3"
  }
 },
 "nbformat": 4,
 "nbformat_minor": 4
}
